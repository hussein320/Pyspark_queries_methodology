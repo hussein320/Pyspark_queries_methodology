{
  "nbformat": 4,
  "nbformat_minor": 0,
  "metadata": {
    "colab": {
      "provenance": []
    },
    "kernelspec": {
      "name": "python3",
      "display_name": "Python 3"
    },
    "language_info": {
      "name": "python"
    }
  },
  "cells": [
    {
      "cell_type": "markdown",
      "source": [
        "The goal of this Notebook is to create pyspark queris on cars made in germany in order to test the performance of pyspark and also see its capabilites and performance in EDA. The base goal is tp writes 25 queries answering question about our 46405 rows × 9 columns data"
      ],
      "metadata": {
        "id": "Pqkpt7hmSLz2"
      }
    },
    {
      "cell_type": "code",
      "execution_count": null,
      "metadata": {
        "colab": {
          "base_uri": "https://localhost:8080/"
        },
        "id": "KzEcUHB4R-TN",
        "outputId": "038168f7-2df7-4af8-e63c-def2d0f97a9c"
      },
      "outputs": [
        {
          "output_type": "stream",
          "name": "stdout",
          "text": [
            "Collecting pyspark\n",
            "  Downloading pyspark-3.5.1.tar.gz (317.0 MB)\n",
            "\u001b[2K     \u001b[90m━━━━━━━━━━━━━━━━━━━━━━━━━━━━━━━━━━━━━━━━\u001b[0m \u001b[32m317.0/317.0 MB\u001b[0m \u001b[31m3.1 MB/s\u001b[0m eta \u001b[36m0:00:00\u001b[0m\n",
            "\u001b[?25h  Preparing metadata (setup.py) ... \u001b[?25l\u001b[?25hdone\n",
            "Requirement already satisfied: py4j==0.10.9.7 in /usr/local/lib/python3.10/dist-packages (from pyspark) (0.10.9.7)\n",
            "Building wheels for collected packages: pyspark\n",
            "  Building wheel for pyspark (setup.py) ... \u001b[?25l\u001b[?25hdone\n",
            "  Created wheel for pyspark: filename=pyspark-3.5.1-py2.py3-none-any.whl size=317488491 sha256=f651e1b516f1e4adc4c098da885eeac68ec624333de45d726edd1e35ef225d4b\n",
            "  Stored in directory: /root/.cache/pip/wheels/80/1d/60/2c256ed38dddce2fdd93be545214a63e02fbd8d74fb0b7f3a6\n",
            "Successfully built pyspark\n",
            "Installing collected packages: pyspark\n",
            "Successfully installed pyspark-3.5.1\n"
          ]
        }
      ],
      "source": [
        "pip install pyspark\n"
      ]
    },
    {
      "cell_type": "markdown",
      "source": [
        "Import libraries"
      ],
      "metadata": {
        "id": "uAG0m_KESOB1"
      }
    },
    {
      "cell_type": "code",
      "source": [
        "from pyspark import SparkContext\n",
        "from pyspark.sql import SparkSession\n",
        "import pyspark.sql.functions  as f\n",
        "import pandas as pd\n",
        "import matplotlib.pyplot as plt\n",
        "from pyspark.sql import Row"
      ],
      "metadata": {
        "id": "dTgXBYbfSReG"
      },
      "execution_count": null,
      "outputs": []
    },
    {
      "cell_type": "code",
      "source": [
        "Data =  pd.read_csv(\"cars_Germany.csv\")"
      ],
      "metadata": {
        "id": "VXT9Rq3SSTON"
      },
      "execution_count": null,
      "outputs": []
    },
    {
      "cell_type": "code",
      "source": [
        "Data"
      ],
      "metadata": {
        "id": "-dNGwn9QTl0O",
        "colab": {
          "base_uri": "https://localhost:8080/",
          "height": 423
        },
        "outputId": "b402617e-193e-48ad-d09f-bc0cbe35705f"
      },
      "execution_count": null,
      "outputs": [
        {
          "output_type": "execute_result",
          "data": {
            "text/plain": [
              "       mileage        make   model               fuel    gear       offerType  \\\n",
              "0       235000         BMW     316             Diesel  Manual            Used   \n",
              "1        92800  Volkswagen    Golf           Gasoline  Manual            Used   \n",
              "2       149300        SEAT    Exeo           Gasoline  Manual            Used   \n",
              "3        96200     Renault  Megane           Gasoline  Manual            Used   \n",
              "4       156000     Peugeot     308           Gasoline  Manual            Used   \n",
              "...        ...         ...     ...                ...     ...             ...   \n",
              "46400       99        Fiat     500  Electric/Gasoline  Manual  Pre-registered   \n",
              "46401       99        Fiat     500  Electric/Gasoline  Manual  Pre-registered   \n",
              "46402       99        Fiat     500  Electric/Gasoline  Manual  Pre-registered   \n",
              "46403       99        Fiat     500  Electric/Gasoline  Manual  Pre-registered   \n",
              "46404       99        Fiat     500  Electric/Gasoline  Manual  Pre-registered   \n",
              "\n",
              "       price     hp  year  \n",
              "0       6800  116.0  2011  \n",
              "1       6877  122.0  2011  \n",
              "2       6900  160.0  2011  \n",
              "3       6950  110.0  2011  \n",
              "4       6950  156.0  2011  \n",
              "...      ...    ...   ...  \n",
              "46400  12990   71.0  2021  \n",
              "46401  12990   71.0  2021  \n",
              "46402  12990   71.0  2021  \n",
              "46403  12990   71.0  2021  \n",
              "46404  12990   71.0  2021  \n",
              "\n",
              "[46405 rows x 9 columns]"
            ],
            "text/html": [
              "\n",
              "  <div id=\"df-262b1b21-f0e1-4242-a7c4-6d87f48d0e10\" class=\"colab-df-container\">\n",
              "    <div>\n",
              "<style scoped>\n",
              "    .dataframe tbody tr th:only-of-type {\n",
              "        vertical-align: middle;\n",
              "    }\n",
              "\n",
              "    .dataframe tbody tr th {\n",
              "        vertical-align: top;\n",
              "    }\n",
              "\n",
              "    .dataframe thead th {\n",
              "        text-align: right;\n",
              "    }\n",
              "</style>\n",
              "<table border=\"1\" class=\"dataframe\">\n",
              "  <thead>\n",
              "    <tr style=\"text-align: right;\">\n",
              "      <th></th>\n",
              "      <th>mileage</th>\n",
              "      <th>make</th>\n",
              "      <th>model</th>\n",
              "      <th>fuel</th>\n",
              "      <th>gear</th>\n",
              "      <th>offerType</th>\n",
              "      <th>price</th>\n",
              "      <th>hp</th>\n",
              "      <th>year</th>\n",
              "    </tr>\n",
              "  </thead>\n",
              "  <tbody>\n",
              "    <tr>\n",
              "      <th>0</th>\n",
              "      <td>235000</td>\n",
              "      <td>BMW</td>\n",
              "      <td>316</td>\n",
              "      <td>Diesel</td>\n",
              "      <td>Manual</td>\n",
              "      <td>Used</td>\n",
              "      <td>6800</td>\n",
              "      <td>116.0</td>\n",
              "      <td>2011</td>\n",
              "    </tr>\n",
              "    <tr>\n",
              "      <th>1</th>\n",
              "      <td>92800</td>\n",
              "      <td>Volkswagen</td>\n",
              "      <td>Golf</td>\n",
              "      <td>Gasoline</td>\n",
              "      <td>Manual</td>\n",
              "      <td>Used</td>\n",
              "      <td>6877</td>\n",
              "      <td>122.0</td>\n",
              "      <td>2011</td>\n",
              "    </tr>\n",
              "    <tr>\n",
              "      <th>2</th>\n",
              "      <td>149300</td>\n",
              "      <td>SEAT</td>\n",
              "      <td>Exeo</td>\n",
              "      <td>Gasoline</td>\n",
              "      <td>Manual</td>\n",
              "      <td>Used</td>\n",
              "      <td>6900</td>\n",
              "      <td>160.0</td>\n",
              "      <td>2011</td>\n",
              "    </tr>\n",
              "    <tr>\n",
              "      <th>3</th>\n",
              "      <td>96200</td>\n",
              "      <td>Renault</td>\n",
              "      <td>Megane</td>\n",
              "      <td>Gasoline</td>\n",
              "      <td>Manual</td>\n",
              "      <td>Used</td>\n",
              "      <td>6950</td>\n",
              "      <td>110.0</td>\n",
              "      <td>2011</td>\n",
              "    </tr>\n",
              "    <tr>\n",
              "      <th>4</th>\n",
              "      <td>156000</td>\n",
              "      <td>Peugeot</td>\n",
              "      <td>308</td>\n",
              "      <td>Gasoline</td>\n",
              "      <td>Manual</td>\n",
              "      <td>Used</td>\n",
              "      <td>6950</td>\n",
              "      <td>156.0</td>\n",
              "      <td>2011</td>\n",
              "    </tr>\n",
              "    <tr>\n",
              "      <th>...</th>\n",
              "      <td>...</td>\n",
              "      <td>...</td>\n",
              "      <td>...</td>\n",
              "      <td>...</td>\n",
              "      <td>...</td>\n",
              "      <td>...</td>\n",
              "      <td>...</td>\n",
              "      <td>...</td>\n",
              "      <td>...</td>\n",
              "    </tr>\n",
              "    <tr>\n",
              "      <th>46400</th>\n",
              "      <td>99</td>\n",
              "      <td>Fiat</td>\n",
              "      <td>500</td>\n",
              "      <td>Electric/Gasoline</td>\n",
              "      <td>Manual</td>\n",
              "      <td>Pre-registered</td>\n",
              "      <td>12990</td>\n",
              "      <td>71.0</td>\n",
              "      <td>2021</td>\n",
              "    </tr>\n",
              "    <tr>\n",
              "      <th>46401</th>\n",
              "      <td>99</td>\n",
              "      <td>Fiat</td>\n",
              "      <td>500</td>\n",
              "      <td>Electric/Gasoline</td>\n",
              "      <td>Manual</td>\n",
              "      <td>Pre-registered</td>\n",
              "      <td>12990</td>\n",
              "      <td>71.0</td>\n",
              "      <td>2021</td>\n",
              "    </tr>\n",
              "    <tr>\n",
              "      <th>46402</th>\n",
              "      <td>99</td>\n",
              "      <td>Fiat</td>\n",
              "      <td>500</td>\n",
              "      <td>Electric/Gasoline</td>\n",
              "      <td>Manual</td>\n",
              "      <td>Pre-registered</td>\n",
              "      <td>12990</td>\n",
              "      <td>71.0</td>\n",
              "      <td>2021</td>\n",
              "    </tr>\n",
              "    <tr>\n",
              "      <th>46403</th>\n",
              "      <td>99</td>\n",
              "      <td>Fiat</td>\n",
              "      <td>500</td>\n",
              "      <td>Electric/Gasoline</td>\n",
              "      <td>Manual</td>\n",
              "      <td>Pre-registered</td>\n",
              "      <td>12990</td>\n",
              "      <td>71.0</td>\n",
              "      <td>2021</td>\n",
              "    </tr>\n",
              "    <tr>\n",
              "      <th>46404</th>\n",
              "      <td>99</td>\n",
              "      <td>Fiat</td>\n",
              "      <td>500</td>\n",
              "      <td>Electric/Gasoline</td>\n",
              "      <td>Manual</td>\n",
              "      <td>Pre-registered</td>\n",
              "      <td>12990</td>\n",
              "      <td>71.0</td>\n",
              "      <td>2021</td>\n",
              "    </tr>\n",
              "  </tbody>\n",
              "</table>\n",
              "<p>46405 rows × 9 columns</p>\n",
              "</div>\n",
              "    <div class=\"colab-df-buttons\">\n",
              "\n",
              "  <div class=\"colab-df-container\">\n",
              "    <button class=\"colab-df-convert\" onclick=\"convertToInteractive('df-262b1b21-f0e1-4242-a7c4-6d87f48d0e10')\"\n",
              "            title=\"Convert this dataframe to an interactive table.\"\n",
              "            style=\"display:none;\">\n",
              "\n",
              "  <svg xmlns=\"http://www.w3.org/2000/svg\" height=\"24px\" viewBox=\"0 -960 960 960\">\n",
              "    <path d=\"M120-120v-720h720v720H120Zm60-500h600v-160H180v160Zm220 220h160v-160H400v160Zm0 220h160v-160H400v160ZM180-400h160v-160H180v160Zm440 0h160v-160H620v160ZM180-180h160v-160H180v160Zm440 0h160v-160H620v160Z\"/>\n",
              "  </svg>\n",
              "    </button>\n",
              "\n",
              "  <style>\n",
              "    .colab-df-container {\n",
              "      display:flex;\n",
              "      gap: 12px;\n",
              "    }\n",
              "\n",
              "    .colab-df-convert {\n",
              "      background-color: #E8F0FE;\n",
              "      border: none;\n",
              "      border-radius: 50%;\n",
              "      cursor: pointer;\n",
              "      display: none;\n",
              "      fill: #1967D2;\n",
              "      height: 32px;\n",
              "      padding: 0 0 0 0;\n",
              "      width: 32px;\n",
              "    }\n",
              "\n",
              "    .colab-df-convert:hover {\n",
              "      background-color: #E2EBFA;\n",
              "      box-shadow: 0px 1px 2px rgba(60, 64, 67, 0.3), 0px 1px 3px 1px rgba(60, 64, 67, 0.15);\n",
              "      fill: #174EA6;\n",
              "    }\n",
              "\n",
              "    .colab-df-buttons div {\n",
              "      margin-bottom: 4px;\n",
              "    }\n",
              "\n",
              "    [theme=dark] .colab-df-convert {\n",
              "      background-color: #3B4455;\n",
              "      fill: #D2E3FC;\n",
              "    }\n",
              "\n",
              "    [theme=dark] .colab-df-convert:hover {\n",
              "      background-color: #434B5C;\n",
              "      box-shadow: 0px 1px 3px 1px rgba(0, 0, 0, 0.15);\n",
              "      filter: drop-shadow(0px 1px 2px rgba(0, 0, 0, 0.3));\n",
              "      fill: #FFFFFF;\n",
              "    }\n",
              "  </style>\n",
              "\n",
              "    <script>\n",
              "      const buttonEl =\n",
              "        document.querySelector('#df-262b1b21-f0e1-4242-a7c4-6d87f48d0e10 button.colab-df-convert');\n",
              "      buttonEl.style.display =\n",
              "        google.colab.kernel.accessAllowed ? 'block' : 'none';\n",
              "\n",
              "      async function convertToInteractive(key) {\n",
              "        const element = document.querySelector('#df-262b1b21-f0e1-4242-a7c4-6d87f48d0e10');\n",
              "        const dataTable =\n",
              "          await google.colab.kernel.invokeFunction('convertToInteractive',\n",
              "                                                    [key], {});\n",
              "        if (!dataTable) return;\n",
              "\n",
              "        const docLinkHtml = 'Like what you see? Visit the ' +\n",
              "          '<a target=\"_blank\" href=https://colab.research.google.com/notebooks/data_table.ipynb>data table notebook</a>'\n",
              "          + ' to learn more about interactive tables.';\n",
              "        element.innerHTML = '';\n",
              "        dataTable['output_type'] = 'display_data';\n",
              "        await google.colab.output.renderOutput(dataTable, element);\n",
              "        const docLink = document.createElement('div');\n",
              "        docLink.innerHTML = docLinkHtml;\n",
              "        element.appendChild(docLink);\n",
              "      }\n",
              "    </script>\n",
              "  </div>\n",
              "\n",
              "\n",
              "<div id=\"df-18c61709-3a9f-4924-b634-e2b1fcfb7a1a\">\n",
              "  <button class=\"colab-df-quickchart\" onclick=\"quickchart('df-18c61709-3a9f-4924-b634-e2b1fcfb7a1a')\"\n",
              "            title=\"Suggest charts\"\n",
              "            style=\"display:none;\">\n",
              "\n",
              "<svg xmlns=\"http://www.w3.org/2000/svg\" height=\"24px\"viewBox=\"0 0 24 24\"\n",
              "     width=\"24px\">\n",
              "    <g>\n",
              "        <path d=\"M19 3H5c-1.1 0-2 .9-2 2v14c0 1.1.9 2 2 2h14c1.1 0 2-.9 2-2V5c0-1.1-.9-2-2-2zM9 17H7v-7h2v7zm4 0h-2V7h2v10zm4 0h-2v-4h2v4z\"/>\n",
              "    </g>\n",
              "</svg>\n",
              "  </button>\n",
              "\n",
              "<style>\n",
              "  .colab-df-quickchart {\n",
              "      --bg-color: #E8F0FE;\n",
              "      --fill-color: #1967D2;\n",
              "      --hover-bg-color: #E2EBFA;\n",
              "      --hover-fill-color: #174EA6;\n",
              "      --disabled-fill-color: #AAA;\n",
              "      --disabled-bg-color: #DDD;\n",
              "  }\n",
              "\n",
              "  [theme=dark] .colab-df-quickchart {\n",
              "      --bg-color: #3B4455;\n",
              "      --fill-color: #D2E3FC;\n",
              "      --hover-bg-color: #434B5C;\n",
              "      --hover-fill-color: #FFFFFF;\n",
              "      --disabled-bg-color: #3B4455;\n",
              "      --disabled-fill-color: #666;\n",
              "  }\n",
              "\n",
              "  .colab-df-quickchart {\n",
              "    background-color: var(--bg-color);\n",
              "    border: none;\n",
              "    border-radius: 50%;\n",
              "    cursor: pointer;\n",
              "    display: none;\n",
              "    fill: var(--fill-color);\n",
              "    height: 32px;\n",
              "    padding: 0;\n",
              "    width: 32px;\n",
              "  }\n",
              "\n",
              "  .colab-df-quickchart:hover {\n",
              "    background-color: var(--hover-bg-color);\n",
              "    box-shadow: 0 1px 2px rgba(60, 64, 67, 0.3), 0 1px 3px 1px rgba(60, 64, 67, 0.15);\n",
              "    fill: var(--button-hover-fill-color);\n",
              "  }\n",
              "\n",
              "  .colab-df-quickchart-complete:disabled,\n",
              "  .colab-df-quickchart-complete:disabled:hover {\n",
              "    background-color: var(--disabled-bg-color);\n",
              "    fill: var(--disabled-fill-color);\n",
              "    box-shadow: none;\n",
              "  }\n",
              "\n",
              "  .colab-df-spinner {\n",
              "    border: 2px solid var(--fill-color);\n",
              "    border-color: transparent;\n",
              "    border-bottom-color: var(--fill-color);\n",
              "    animation:\n",
              "      spin 1s steps(1) infinite;\n",
              "  }\n",
              "\n",
              "  @keyframes spin {\n",
              "    0% {\n",
              "      border-color: transparent;\n",
              "      border-bottom-color: var(--fill-color);\n",
              "      border-left-color: var(--fill-color);\n",
              "    }\n",
              "    20% {\n",
              "      border-color: transparent;\n",
              "      border-left-color: var(--fill-color);\n",
              "      border-top-color: var(--fill-color);\n",
              "    }\n",
              "    30% {\n",
              "      border-color: transparent;\n",
              "      border-left-color: var(--fill-color);\n",
              "      border-top-color: var(--fill-color);\n",
              "      border-right-color: var(--fill-color);\n",
              "    }\n",
              "    40% {\n",
              "      border-color: transparent;\n",
              "      border-right-color: var(--fill-color);\n",
              "      border-top-color: var(--fill-color);\n",
              "    }\n",
              "    60% {\n",
              "      border-color: transparent;\n",
              "      border-right-color: var(--fill-color);\n",
              "    }\n",
              "    80% {\n",
              "      border-color: transparent;\n",
              "      border-right-color: var(--fill-color);\n",
              "      border-bottom-color: var(--fill-color);\n",
              "    }\n",
              "    90% {\n",
              "      border-color: transparent;\n",
              "      border-bottom-color: var(--fill-color);\n",
              "    }\n",
              "  }\n",
              "</style>\n",
              "\n",
              "  <script>\n",
              "    async function quickchart(key) {\n",
              "      const quickchartButtonEl =\n",
              "        document.querySelector('#' + key + ' button');\n",
              "      quickchartButtonEl.disabled = true;  // To prevent multiple clicks.\n",
              "      quickchartButtonEl.classList.add('colab-df-spinner');\n",
              "      try {\n",
              "        const charts = await google.colab.kernel.invokeFunction(\n",
              "            'suggestCharts', [key], {});\n",
              "      } catch (error) {\n",
              "        console.error('Error during call to suggestCharts:', error);\n",
              "      }\n",
              "      quickchartButtonEl.classList.remove('colab-df-spinner');\n",
              "      quickchartButtonEl.classList.add('colab-df-quickchart-complete');\n",
              "    }\n",
              "    (() => {\n",
              "      let quickchartButtonEl =\n",
              "        document.querySelector('#df-18c61709-3a9f-4924-b634-e2b1fcfb7a1a button');\n",
              "      quickchartButtonEl.style.display =\n",
              "        google.colab.kernel.accessAllowed ? 'block' : 'none';\n",
              "    })();\n",
              "  </script>\n",
              "</div>\n",
              "    </div>\n",
              "  </div>\n"
            ],
            "application/vnd.google.colaboratory.intrinsic+json": {
              "type": "dataframe",
              "variable_name": "Data",
              "summary": "{\n  \"name\": \"Data\",\n  \"rows\": 46405,\n  \"fields\": [\n    {\n      \"column\": \"mileage\",\n      \"properties\": {\n        \"dtype\": \"number\",\n        \"std\": 62625,\n        \"min\": 0,\n        \"max\": 1111111,\n        \"num_unique_values\": 20117,\n        \"samples\": [\n          43990,\n          69916,\n          36290\n        ],\n        \"semantic_type\": \"\",\n        \"description\": \"\"\n      }\n    },\n    {\n      \"column\": \"make\",\n      \"properties\": {\n        \"dtype\": \"category\",\n        \"num_unique_values\": 77,\n        \"samples\": [\n          \"Peugeot\",\n          \"Bentley\",\n          \"Chevrolet\"\n        ],\n        \"semantic_type\": \"\",\n        \"description\": \"\"\n      }\n    },\n    {\n      \"column\": \"model\",\n      \"properties\": {\n        \"dtype\": \"category\",\n        \"num_unique_values\": 841,\n        \"samples\": [\n          \"Bravo\",\n          \"600LT\",\n          \"Insignia\"\n        ],\n        \"semantic_type\": \"\",\n        \"description\": \"\"\n      }\n    },\n    {\n      \"column\": \"fuel\",\n      \"properties\": {\n        \"dtype\": \"category\",\n        \"num_unique_values\": 11,\n        \"samples\": [\n          \"Electric/Diesel\",\n          \"Diesel\",\n          \"Hydrogen\"\n        ],\n        \"semantic_type\": \"\",\n        \"description\": \"\"\n      }\n    },\n    {\n      \"column\": \"gear\",\n      \"properties\": {\n        \"dtype\": \"category\",\n        \"num_unique_values\": 3,\n        \"samples\": [\n          \"Manual\",\n          \"Automatic\",\n          \"Semi-automatic\"\n        ],\n        \"semantic_type\": \"\",\n        \"description\": \"\"\n      }\n    },\n    {\n      \"column\": \"offerType\",\n      \"properties\": {\n        \"dtype\": \"category\",\n        \"num_unique_values\": 5,\n        \"samples\": [\n          \"Demonstration\",\n          \"New\",\n          \"Employee's car\"\n        ],\n        \"semantic_type\": \"\",\n        \"description\": \"\"\n      }\n    },\n    {\n      \"column\": \"price\",\n      \"properties\": {\n        \"dtype\": \"number\",\n        \"std\": 19304,\n        \"min\": 1100,\n        \"max\": 1199900,\n        \"num_unique_values\": 6668,\n        \"samples\": [\n          6199,\n          48895,\n          37943\n        ],\n        \"semantic_type\": \"\",\n        \"description\": \"\"\n      }\n    },\n    {\n      \"column\": \"hp\",\n      \"properties\": {\n        \"dtype\": \"number\",\n        \"std\": 75.44928433298794,\n        \"min\": 1.0,\n        \"max\": 850.0,\n        \"num_unique_values\": 328,\n        \"samples\": [\n          169.0,\n          455.0,\n          519.0\n        ],\n        \"semantic_type\": \"\",\n        \"description\": \"\"\n      }\n    },\n    {\n      \"column\": \"year\",\n      \"properties\": {\n        \"dtype\": \"number\",\n        \"std\": 3,\n        \"min\": 2011,\n        \"max\": 2021,\n        \"num_unique_values\": 11,\n        \"samples\": [\n          2016,\n          2011,\n          2020\n        ],\n        \"semantic_type\": \"\",\n        \"description\": \"\"\n      }\n    }\n  ]\n}"
            }
          },
          "metadata": {},
          "execution_count": 4
        }
      ]
    },
    {
      "cell_type": "code",
      "source": [
        "sc = SparkContext.getOrCreate()\n",
        "sqlsess = SparkSession(sc)\n"
      ],
      "metadata": {
        "id": "k8_lfgqwoOnq"
      },
      "execution_count": null,
      "outputs": []
    },
    {
      "cell_type": "markdown",
      "source": [
        "Data in PySpark is represented as RDDs, which stands for Resilient Distributed Datasets. These are immutable, partitioned collections of objects spread across a cluster of machines that can be operated on in parallel. RDDs have advanced the field of big data computations because they allow for in-memory caching, which is a more efficient solution than the read and write operations to the disk used in Hadoop's HDFS system, where disk I/O was considered a significant overhead."
      ],
      "metadata": {
        "id": "MeSGB64sUptT"
      }
    },
    {
      "cell_type": "code",
      "source": [
        "\n",
        "data = sqlsess.read.option(\"header\",\"true\").csv(\"cars_Germany.csv\")\n",
        "\n",
        "data"
      ],
      "metadata": {
        "colab": {
          "base_uri": "https://localhost:8080/"
        },
        "id": "SLhh2i3NTok8",
        "outputId": "87595824-858d-4647-ba19-67d90498cac9"
      },
      "execution_count": null,
      "outputs": [
        {
          "output_type": "execute_result",
          "data": {
            "text/plain": [
              "DataFrame[mileage: string, make: string, model: string, fuel: string, gear: string, offerType: string, price: string, hp: string, year: string]"
            ]
          },
          "metadata": {},
          "execution_count": 6
        }
      ]
    },
    {
      "cell_type": "markdown",
      "source": [
        "Now our data is stored as Pyspark Dataframe which are key contribution to pyspark\n",
        "\n",
        "If we want our data to be as rdd, we can do the following"
      ],
      "metadata": {
        "id": "BqsalEgXdmeo"
      }
    },
    {
      "cell_type": "code",
      "source": [
        "data_rdd = data.rdd\n",
        "data_rdd"
      ],
      "metadata": {
        "colab": {
          "base_uri": "https://localhost:8080/"
        },
        "id": "XtfAyx3ldKsS",
        "outputId": "913778e2-a110-4a53-b97b-b7a3f6752a9c"
      },
      "execution_count": null,
      "outputs": [
        {
          "output_type": "execute_result",
          "data": {
            "text/plain": [
              "MapPartitionsRDD[14] at javaToPython at NativeMethodAccessorImpl.java:0"
            ]
          },
          "metadata": {},
          "execution_count": 7
        }
      ]
    },
    {
      "cell_type": "markdown",
      "source": [
        "In here, i will show the data as dataframe in pyspark, where i will later use the dataframe API in order to run queries and perform the transformations and axctions of my ETL journery on the data."
      ],
      "metadata": {
        "id": "ogGGeWdnd9H2"
      }
    },
    {
      "cell_type": "code",
      "source": [
        "data.show(10)"
      ],
      "metadata": {
        "id": "i0gza17bdcXU",
        "colab": {
          "base_uri": "https://localhost:8080/"
        },
        "outputId": "6058b04b-705e-4cd2-b298-6690fcf34a1e"
      },
      "execution_count": null,
      "outputs": [
        {
          "output_type": "stream",
          "name": "stdout",
          "text": [
            "+-------+----------+-------+-----------------+---------+---------+-----+---+----+\n",
            "|mileage|      make|  model|             fuel|     gear|offerType|price| hp|year|\n",
            "+-------+----------+-------+-----------------+---------+---------+-----+---+----+\n",
            "| 235000|       BMW|    316|           Diesel|   Manual|     Used| 6800|116|2011|\n",
            "|  92800|Volkswagen|   Golf|         Gasoline|   Manual|     Used| 6877|122|2011|\n",
            "| 149300|      SEAT|   Exeo|         Gasoline|   Manual|     Used| 6900|160|2011|\n",
            "|  96200|   Renault| Megane|         Gasoline|   Manual|     Used| 6950|110|2011|\n",
            "| 156000|   Peugeot|    308|         Gasoline|   Manual|     Used| 6950|156|2011|\n",
            "| 147000|    Toyota|  Auris|Electric/Gasoline|Automatic|     Used| 6950| 99|2011|\n",
            "|  91894|   Renault| Scenic|           Diesel|   Manual|     Used| 6970|131|2011|\n",
            "| 127500|      Opel| Zafira|         Gasoline|   Manual|     Used| 6972|116|2011|\n",
            "| 115000|     Mazda|      3|         Gasoline|Automatic|     Used| 6980|150|2011|\n",
            "|    104|      Ford|Transit|           Diesel|   Manual|     Used| 6990| 86|2011|\n",
            "+-------+----------+-------+-----------------+---------+---------+-----+---+----+\n",
            "only showing top 10 rows\n",
            "\n"
          ]
        }
      ]
    },
    {
      "cell_type": "markdown",
      "source": [
        "select query\n",
        "Note that we are running the action .show() in order to get the execution immediatly\n",
        "\n",
        "we will use both .where() and .filter() clauses."
      ],
      "metadata": {
        "id": "qu9VMRW9e23i"
      }
    },
    {
      "cell_type": "code",
      "source": [
        "data.select(\"mileage\").show()"
      ],
      "metadata": {
        "colab": {
          "base_uri": "https://localhost:8080/"
        },
        "id": "5NjDgTXbdetc",
        "outputId": "8129b30a-8066-4b92-cfd6-1c89c41098ff"
      },
      "execution_count": null,
      "outputs": [
        {
          "output_type": "stream",
          "name": "stdout",
          "text": [
            "+-------+\n",
            "|mileage|\n",
            "+-------+\n",
            "| 235000|\n",
            "|  92800|\n",
            "| 149300|\n",
            "|  96200|\n",
            "| 156000|\n",
            "| 147000|\n",
            "|  91894|\n",
            "| 127500|\n",
            "| 115000|\n",
            "|    104|\n",
            "|  59580|\n",
            "|  84000|\n",
            "| 427000|\n",
            "| 109000|\n",
            "| 194020|\n",
            "|  72000|\n",
            "| 190000|\n",
            "| 190000|\n",
            "|  85700|\n",
            "|  82000|\n",
            "+-------+\n",
            "only showing top 20 rows\n",
            "\n"
          ]
        }
      ]
    },
    {
      "cell_type": "markdown",
      "source": [
        "Conditioing\n",
        "\n",
        "show make, model and price for cars that cost more than 60 000 euros"
      ],
      "metadata": {
        "id": "suWJPZmle5AH"
      }
    },
    {
      "cell_type": "code",
      "source": [
        "data.select(\"make\",\"model\",\"price\")\\\n",
        "    .where(f.col(\"price\") > 60000)\\\n",
        "    .show()"
      ],
      "metadata": {
        "colab": {
          "base_uri": "https://localhost:8080/"
        },
        "id": "gRdA4OORe0aP",
        "outputId": "10f7b4e8-99ab-4586-eb67-1535f28e43d8"
      },
      "execution_count": null,
      "outputs": [
        {
          "output_type": "stream",
          "name": "stdout",
          "text": [
            "+-------------+-------------+-----+\n",
            "|         make|        model|price|\n",
            "+-------------+-------------+-----+\n",
            "|         Audi|        TT RS|64885|\n",
            "|       Jaguar|       F-Type|64900|\n",
            "|         Audi|        TT RS|65890|\n",
            "|      Porsche|        Macan|65900|\n",
            "|   Volkswagen|      Touareg|66740|\n",
            "|         Audi|          SQ5|66790|\n",
            "|         Audi|           A7|66890|\n",
            "|         Audi|          SQ5|67840|\n",
            "|         Audi|           A7|69890|\n",
            "|         Audi|        RS Q3|69890|\n",
            "|         Audi|           S5|69980|\n",
            "|   Volkswagen|T6 California|70980|\n",
            "|         Audi|           Q7|81890|\n",
            "|         Audi|           Q8|81890|\n",
            "|         Audi|           Q8|81890|\n",
            "|         Audi|           Q8|83890|\n",
            "|   Volkswagen|      Touareg|61950|\n",
            "|        Volvo|         XC60|64800|\n",
            "|Mercedes-Benz|      CLS 350|66890|\n",
            "|   Volkswagen|T6 California|74990|\n",
            "+-------------+-------------+-----+\n",
            "only showing top 20 rows\n",
            "\n"
          ]
        }
      ]
    },
    {
      "cell_type": "code",
      "source": [
        "data.select(\"make\",\"model\",\"price\")\\\n",
        "    .filter(f.col(\"price\") >60000)\\\n",
        "    .show()"
      ],
      "metadata": {
        "colab": {
          "base_uri": "https://localhost:8080/"
        },
        "id": "RJdUgKVFgYUV",
        "outputId": "798f2879-7ec5-4b11-f0d1-2241d87a33c4"
      },
      "execution_count": null,
      "outputs": [
        {
          "output_type": "stream",
          "name": "stdout",
          "text": [
            "+-------------+-------------+-----+\n",
            "|         make|        model|price|\n",
            "+-------------+-------------+-----+\n",
            "|         Audi|        TT RS|64885|\n",
            "|       Jaguar|       F-Type|64900|\n",
            "|         Audi|        TT RS|65890|\n",
            "|      Porsche|        Macan|65900|\n",
            "|   Volkswagen|      Touareg|66740|\n",
            "|         Audi|          SQ5|66790|\n",
            "|         Audi|           A7|66890|\n",
            "|         Audi|          SQ5|67840|\n",
            "|         Audi|           A7|69890|\n",
            "|         Audi|        RS Q3|69890|\n",
            "|         Audi|           S5|69980|\n",
            "|   Volkswagen|T6 California|70980|\n",
            "|         Audi|           Q7|81890|\n",
            "|         Audi|           Q8|81890|\n",
            "|         Audi|           Q8|81890|\n",
            "|         Audi|           Q8|83890|\n",
            "|   Volkswagen|      Touareg|61950|\n",
            "|        Volvo|         XC60|64800|\n",
            "|Mercedes-Benz|      CLS 350|66890|\n",
            "|   Volkswagen|T6 California|74990|\n",
            "+-------------+-------------+-----+\n",
            "only showing top 20 rows\n",
            "\n"
          ]
        }
      ]
    },
    {
      "cell_type": "markdown",
      "source": [
        "Average price for each offertype made on BMW cars.\n",
        "\n",
        "I will run this using SQL and API dataframe"
      ],
      "metadata": {
        "id": "SqQCNGSBjxhF"
      }
    },
    {
      "cell_type": "code",
      "source": [
        "# create a view for make, price and offer type\n",
        "\n",
        "first_round = data.select(\"make\",  \"offertype\", \"price\")\\\n",
        "              .filter(f.col(\"make\") == \"BMW\")\\\n",
        "              .groupBy(\"offertype\")\\\n",
        "              .agg(f.round(f.avg(\"price\"),2).alias(\"Average price\"))\\\n",
        "\n"
      ],
      "metadata": {
        "id": "ePBBR45XfblW"
      },
      "execution_count": null,
      "outputs": []
    },
    {
      "cell_type": "code",
      "source": [
        "first_round.collect()"
      ],
      "metadata": {
        "colab": {
          "base_uri": "https://localhost:8080/"
        },
        "id": "vOtX3EKgm27q",
        "outputId": "800f6f71-0278-4098-8ecd-5060fb804daf"
      },
      "execution_count": null,
      "outputs": [
        {
          "output_type": "execute_result",
          "data": {
            "text/plain": [
              "[Row(offertype=\"Employee's car\", Average price=48145.38),\n",
              " Row(offertype='Used', Average price=22357.67),\n",
              " Row(offertype='Pre-registered', Average price=41450.0),\n",
              " Row(offertype='Demonstration', Average price=65677.58)]"
            ]
          },
          "metadata": {},
          "execution_count": 43
        }
      ]
    },
    {
      "cell_type": "code",
      "source": [
        "first_round.show()"
      ],
      "metadata": {
        "colab": {
          "base_uri": "https://localhost:8080/"
        },
        "id": "VuIOMWM5lAfL",
        "outputId": "e9d947fd-7375-41f8-df5e-37fe4342b525"
      },
      "execution_count": null,
      "outputs": [
        {
          "output_type": "stream",
          "name": "stdout",
          "text": [
            "+--------------+-------------+\n",
            "|     offertype|Average price|\n",
            "+--------------+-------------+\n",
            "|Employee's car|     48145.38|\n",
            "|          Used|     22357.67|\n",
            "|Pre-registered|      41450.0|\n",
            "| Demonstration|     65677.58|\n",
            "+--------------+-------------+\n",
            "\n"
          ]
        }
      ]
    },
    {
      "cell_type": "markdown",
      "source": [
        "Now make it as Sql query."
      ],
      "metadata": {
        "id": "1G7Gt6qgm_fr"
      }
    },
    {
      "cell_type": "code",
      "source": [
        "data.createOrReplaceTempView(\"Cars\")"
      ],
      "metadata": {
        "id": "CWubS8MNlDbe"
      },
      "execution_count": null,
      "outputs": []
    },
    {
      "cell_type": "code",
      "source": [
        "res = sqlsess.sql(\n",
        "   \"\"\" select offertype, round(avg(price),2) as Average_price\n",
        "       from Cars\n",
        "       where make = \"BMW\"\n",
        "       group by offertype\n",
        "\n",
        "   \"\"\"\n",
        ")\n",
        "\n",
        "res.show()"
      ],
      "metadata": {
        "colab": {
          "base_uri": "https://localhost:8080/"
        },
        "id": "PjMPUaHPlqv9",
        "outputId": "466a88d4-ae82-49da-8b1d-b4e0fc05657c"
      },
      "execution_count": null,
      "outputs": [
        {
          "output_type": "stream",
          "name": "stdout",
          "text": [
            "+--------------+-------------+\n",
            "|     offertype|Average_price|\n",
            "+--------------+-------------+\n",
            "|Employee's car|     48145.38|\n",
            "|          Used|     22357.67|\n",
            "|Pre-registered|      41450.0|\n",
            "| Demonstration|     65677.58|\n",
            "+--------------+-------------+\n",
            "\n"
          ]
        }
      ]
    },
    {
      "cell_type": "markdown",
      "source": [
        "Now i want to do aggregation and conditioning and both of them."
      ],
      "metadata": {
        "id": "JtO9-7FrLHHD"
      }
    },
    {
      "cell_type": "code",
      "source": [
        "data.printSchema()"
      ],
      "metadata": {
        "colab": {
          "base_uri": "https://localhost:8080/"
        },
        "id": "5F-WZrr_U0pa",
        "outputId": "094f0062-a71e-4b58-ced3-b833031fbfab"
      },
      "execution_count": null,
      "outputs": [
        {
          "output_type": "stream",
          "name": "stdout",
          "text": [
            "root\n",
            " |-- mileage: string (nullable = true)\n",
            " |-- make: string (nullable = true)\n",
            " |-- model: string (nullable = true)\n",
            " |-- fuel: string (nullable = true)\n",
            " |-- gear: string (nullable = true)\n",
            " |-- offerType: string (nullable = true)\n",
            " |-- price: string (nullable = true)\n",
            " |-- hp: string (nullable = true)\n",
            " |-- year: string (nullable = true)\n",
            "\n"
          ]
        }
      ]
    },
    {
      "cell_type": "markdown",
      "source": [
        "After seing the data i have noteced i problem which is price and year and mileage are string instead of int\n",
        "i will use withcolumns and cast function in order to solve this problem."
      ],
      "metadata": {
        "id": "fEOgwoUuU6wW"
      }
    },
    {
      "cell_type": "code",
      "source": [
        "new_data = data.withColumn(\"price\", f.col(\"price\").cast(\"int\"))\\\n",
        "               .withColumn(\"mileage\", f.col(\"mileage\").cast(\"int\"))\\\n",
        "               .withColumn(\"year\", f.col(\"year\").cast(\"int\"))\n"
      ],
      "metadata": {
        "id": "G-0SJ759VbNA"
      },
      "execution_count": null,
      "outputs": []
    },
    {
      "cell_type": "code",
      "source": [
        "new_data.printSchema()"
      ],
      "metadata": {
        "colab": {
          "base_uri": "https://localhost:8080/"
        },
        "id": "TOb-_taRWeI-",
        "outputId": "2704d776-f779-493c-d265-c285bbed4584"
      },
      "execution_count": null,
      "outputs": [
        {
          "output_type": "stream",
          "name": "stdout",
          "text": [
            "root\n",
            " |-- mileage: integer (nullable = true)\n",
            " |-- make: string (nullable = true)\n",
            " |-- model: string (nullable = true)\n",
            " |-- fuel: string (nullable = true)\n",
            " |-- gear: string (nullable = true)\n",
            " |-- offerType: string (nullable = true)\n",
            " |-- price: integer (nullable = true)\n",
            " |-- hp: string (nullable = true)\n",
            " |-- year: integer (nullable = true)\n",
            "\n"
          ]
        }
      ]
    },
    {
      "cell_type": "code",
      "source": [
        "new_data.createOrReplaceTempView(\"CarsT\")"
      ],
      "metadata": {
        "id": "u4E95mBbXNS5"
      },
      "execution_count": null,
      "outputs": []
    },
    {
      "cell_type": "code",
      "source": [
        "# i want to get the car that their milage is less than 1000 and they are Automatic then see their max, min and average price\n",
        "\n",
        "cars_like_new = new_data.where((f.col(\"mileage\") <= 1000) & (f.col(\"gear\") == \"Automatic\"))"
      ],
      "metadata": {
        "id": "pk8QP8CwnivT"
      },
      "execution_count": null,
      "outputs": []
    },
    {
      "cell_type": "code",
      "source": [
        "cars_like_new.show(100)"
      ],
      "metadata": {
        "colab": {
          "base_uri": "https://localhost:8080/"
        },
        "id": "OufIKBoTMEUg",
        "outputId": "43d47e44-1d0a-45cd-8bac-a6e980da1ef4"
      },
      "execution_count": null,
      "outputs": [
        {
          "output_type": "stream",
          "name": "stdout",
          "text": [
            "+-------+-------------+---------------+-----------------+---------+--------------+------+---+----+\n",
            "|mileage|         make|          model|             fuel|     gear|     offerType| price| hp|year|\n",
            "+-------+-------------+---------------+-----------------+---------+--------------+------+---+----+\n",
            "|    999|         Audi|             A7|Electric/Gasoline|Automatic|          Used| 66890|367|2020|\n",
            "|      5|          Kia|         Optima|         Gasoline|Automatic| Demonstration| 28590|179|2019|\n",
            "|     10|      Hyundai|          Ioniq|Electric/Gasoline|Automatic| Demonstration| 21250|105|2020|\n",
            "|     29|         Ford|           Puma|         Gasoline|Automatic|          Used| 21490|125|2020|\n",
            "|     10|      Hyundai|            i30|         Gasoline|Automatic| Demonstration| 21540|140|2020|\n",
            "|      5|      Hyundai|         Tucson|         Gasoline|Automatic|Pre-registered| 36870|179|2021|\n",
            "|     10|      Hyundai|            i30|         Gasoline|Automatic|Pre-registered| 36990|280|2021|\n",
            "|     10|      Hyundai|            i30|         Gasoline|Automatic|Pre-registered| 37550|280|2021|\n",
            "|      5|      Hyundai|         Tucson|Electric/Gasoline|Automatic|Pre-registered| 37970|230|2021|\n",
            "|      5|      Hyundai|         Tucson|Electric/Gasoline|Automatic|Pre-registered| 37970|230|2021|\n",
            "|    125|   Volkswagen|         Tiguan|           Diesel|Automatic|Employee's car| 37980|150|2021|\n",
            "|    125|   Volkswagen|         Tiguan|           Diesel|Automatic|Employee's car| 37980|150|2021|\n",
            "|     18|      Hyundai|         Tucson|Electric/Gasoline|Automatic|Pre-registered| 37988|230|2021|\n",
            "|     10|      Hyundai|         Tucson|Electric/Gasoline|Automatic| Demonstration| 38387|230|2021|\n",
            "|     10|      Hyundai|         Tucson|Electric/Gasoline|Automatic|Pre-registered| 38440|265|2021|\n",
            "|      5|         Jeep|        Compass|Electric/Gasoline|Automatic| Demonstration| 39890|179|2021|\n",
            "|     12|      Hyundai|         Tucson|         Gasoline|Automatic|Pre-registered| 39988|179|2021|\n",
            "|     10|         Ford|         Ranger|           Diesel|Automatic|          Used| 40850|212|2021|\n",
            "|     10|      Citroen|    Spacetourer|           Diesel|Automatic|Pre-registered| 40890|177|2021|\n",
            "|    130|         Audi|             A7|           Diesel|Automatic|          Used| 52430|204|2019|\n",
            "|     50|        Skoda|        Octavia|         Gasoline|Automatic|Pre-registered| 34745|245|2020|\n",
            "|     10|         SEAT|           Leon|         Gasoline|Automatic|Pre-registered| 34950|300|2020|\n",
            "|     15|   Volkswagen|  T6.1 Multivan|           Diesel|Automatic|          Used| 64808|204|2021|\n",
            "|   1000|        Volvo|           XC40|         Electric|Automatic| Demonstration| 69880|408|2021|\n",
            "|     15|   Volkswagen|T6.1 California|           Diesel|Automatic|          Used| 71705|150|2021|\n",
            "|     10|        Volvo|           XC60|Electric/Gasoline|Automatic| Demonstration| 77480|341|2021|\n",
            "|     10|        Volvo|           XC60|Electric/Gasoline|Automatic| Demonstration| 77860|253|2021|\n",
            "|     15|         Fiat|            500|         Gasoline|Automatic|Pre-registered| 12990| 69|2020|\n",
            "|     10|        Dacia|          Logan|         Gasoline|Automatic|          Used| 15990| 91|2021|\n",
            "|     10|      Renault|            ZOE|         Electric|Automatic|          Used| 15990|109|2021|\n",
            "|     20|         Fiat|            500|         Gasoline|Automatic|Pre-registered| 15990| 69|2021|\n",
            "|     15|         Audi|             A3|         Gasoline|Automatic|Pre-registered| 36900|150|2021|\n",
            "|      4|         Audi|             A3|Electric/Gasoline|Automatic|Pre-registered| 36900|204|2021|\n",
            "|     11|         Audi|             A3|           Diesel|Automatic|Pre-registered| 36900|150|2021|\n",
            "|     12|         Audi|             Q3|         Gasoline|Automatic|Pre-registered| 38490|150|2021|\n",
            "|     10|   Volkswagen|         Sharan|         Gasoline|Automatic|Pre-registered| 39900|150|2021|\n",
            "|    101|       Nissan|         Navara|           Diesel|Automatic|Employee's car| 39980|190|2021|\n",
            "|    101|       Nissan|         Navara|           Diesel|Automatic|Pre-registered| 39980|190|2021|\n",
            "|     10|         Audi|             Q3|         Gasoline|Automatic|Pre-registered| 40900|150|2021|\n",
            "|      1|        Skoda|        Octavia|         Gasoline|Automatic| Demonstration| 44470|245|2021|\n",
            "|      1|         SEAT|           Leon|Electric/Gasoline|Automatic|          Used| 45990|245|2021|\n",
            "|     20|        Mazda|          MX-30|         Electric|Automatic|Pre-registered| 22495|145|2020|\n",
            "|     25|      Hyundai|          Ioniq|Electric/Gasoline|Automatic|Pre-registered| 23990|105|2020|\n",
            "|     20|      Hyundai|          Ioniq|Electric/Gasoline|Automatic|          Used| 24444|141|2020|\n",
            "|    990|      Hyundai|            i10|         Gasoline|Automatic| Demonstration| 13490| 67|2021|\n",
            "|     50|          BMW|            320|         Gasoline|Automatic|          Used| 33950|184|2020|\n",
            "|      1|        Dodge|     Challenger|         Gasoline|Automatic|          Used| 88990|717|2020|\n",
            "|     10|       Toyota|           Aygo|         Gasoline|Automatic|Pre-registered| 12790| 72|2021|\n",
            "|     10|       Jaguar|         F-Pace|           Diesel|Automatic| Demonstration| 72540|300|2021|\n",
            "|     10|      Hyundai|            i10|         Gasoline|Automatic|Pre-registered| 15690| 84|2021|\n",
            "|     11|      Hyundai|            i20|         Gasoline|Automatic|Pre-registered| 15900|101|2021|\n",
            "|     10|      Citroen|    Spacetourer|           Diesel|Automatic|Pre-registered| 40890|177|2021|\n",
            "|      8|         Opel|       Insignia|         Gasoline|Automatic| Demonstration| 41580|200|2021|\n",
            "|     10|      Hyundai|         Tucson|         Gasoline|Automatic|Pre-registered| 41980|179|2021|\n",
            "|      5|      Peugeot|            508|Electric/Gasoline|Automatic|Pre-registered| 43980|224|2021|\n",
            "|      5|      Hyundai|       Santa Fe|Electric/Gasoline|Automatic|Pre-registered| 44870|230|2021|\n",
            "|      5|      Hyundai|       Santa Fe|Electric/Gasoline|Automatic|Pre-registered| 45870|230|2021|\n",
            "|      5|      Hyundai|       Santa Fe|Electric/Gasoline|Automatic|Pre-registered| 45970|230|2021|\n",
            "|     50|      Hyundai|       Santa Fe|Electric/Gasoline|Automatic| Demonstration| 46990|265|2021|\n",
            "|   1000|         Opel|    Zafira Life|         Electric|Automatic|          Used| 47650|136|2021|\n",
            "|     10|         SEAT|           Leon|Electric/Gasoline|Automatic| Demonstration| 34970|204|2020|\n",
            "|   1000|      Peugeot|           5008|           Diesel|Automatic|Employee's car| 36480|177|2020|\n",
            "|     50|         Fiat|            500|         Gasoline|Automatic|Pre-registered| 13290| 69|2020|\n",
            "|     10|        Skoda|          Fabia|         Gasoline|Automatic|Pre-registered| 16688| 95|2021|\n",
            "|     10|        Skoda|          Fabia|         Gasoline|Automatic|Pre-registered| 16788| 95|2021|\n",
            "|     10|        Skoda|          Fabia|         Gasoline|Automatic|Pre-registered| 16790| 95|2021|\n",
            "|     25|         Baic|           NULL|         Gasoline|Automatic|          Used| 20900|136|2018|\n",
            "|    636|         Opel|    Grandland X|         Gasoline|Automatic|          Used| 30900|181|2019|\n",
            "|     10|         Jeep| Grand Cherokee|           Diesel|Automatic|Pre-registered| 52480|250|2020|\n",
            "|     10|         Jeep| Grand Cherokee|           Diesel|Automatic| Demonstration| 56500|250|2020|\n",
            "|     15|       Jaguar|         F-Type|         Gasoline|Automatic| Demonstration| 62290|300|2020|\n",
            "|      1|        Lexus|         NX 300|Electric/Gasoline|Automatic|          Used| 48980|197|2021|\n",
            "|     23|         Land| Rover Defender|           Diesel|Automatic| Demonstration| 59999|241|2021|\n",
            "|     10|         Land| Rover Defender|           Diesel|Automatic| Demonstration| 74890|300|2021|\n",
            "|      0|         Land|Rover Discovery|           Diesel|Automatic| Demonstration| 79999|300|2021|\n",
            "|    876|         Audi|             A8|           Diesel|Automatic| Demonstration|105999|286|2021|\n",
            "|    500|         Ford|           Puma|         Gasoline|Automatic|          Used| 25790|125|2020|\n",
            "|     20|       Subaru|             XV|Electric/Gasoline|Automatic|Pre-registered| 25990|150|2020|\n",
            "|     25|       Subaru|             XV|Electric/Gasoline|Automatic|Pre-registered| 27590|150|2020|\n",
            "|     20|          Kia|        Picanto|         Gasoline|Automatic|Pre-registered| 13670| 67|2021|\n",
            "|     20|      Hyundai|            i10|         Gasoline|Automatic|Pre-registered| 13990| 67|2021|\n",
            "|     10|       Toyota|           Aygo|         Gasoline|Automatic|Pre-registered| 12790| 72|2021|\n",
            "|     10|       Toyota|           Aygo|         Gasoline|Automatic|Pre-registered| 12790| 72|2021|\n",
            "|     10|          Kia|        Picanto|         Gasoline|Automatic|Pre-registered| 12980| 67|2021|\n",
            "|      9|       Toyota|           Aygo|         Gasoline|Automatic|Pre-registered| 12990| 72|2021|\n",
            "|     10|       Toyota|           Aygo|         Gasoline|Automatic|Pre-registered| 12990| 72|2021|\n",
            "|      9|       Toyota|           Aygo|         Gasoline|Automatic|Pre-registered| 13390| 72|2021|\n",
            "|      9|       Toyota|           Aygo|         Gasoline|Automatic|Pre-registered| 13390| 72|2021|\n",
            "|      9|       Toyota|           Aygo|         Gasoline|Automatic|Pre-registered| 13390| 72|2021|\n",
            "|      9|       Toyota|           Aygo|         Gasoline|Automatic|Pre-registered| 13390| 72|2021|\n",
            "|      9|       Toyota|           Aygo|         Gasoline|Automatic|Pre-registered| 13390| 72|2021|\n",
            "|    100|      Hyundai|            i10|         Gasoline|Automatic|Pre-registered| 13499| 67|2021|\n",
            "|    680|      Porsche|       Panamera|           Diesel|Automatic|          Used|106500|421|2018|\n",
            "|    148|Mercedes-Benz|        GLB 250|         Gasoline|Automatic|Employee's car| 48190|224|2021|\n",
            "|      2|          Kia|        Sorento|Electric/Gasoline|Automatic|          Used| 49450|265|2021|\n",
            "|     12|      Hyundai|       Santa Fe|Electric/Gasoline|Automatic|Pre-registered| 49990|230|2021|\n",
            "|     12|      Hyundai|       Santa Fe|Electric/Gasoline|Automatic|Pre-registered| 49990|230|2021|\n",
            "|      5|          Kia|        Sorento|Electric/Gasoline|Automatic| Demonstration| 50979|265|2021|\n",
            "|      5|         Jeep|        Compass|Electric/Gasoline|Automatic| Demonstration| 53140|239|2021|\n",
            "|     10|         Jeep|       Wrangler|           Diesel|Automatic| Demonstration| 54980|200|2021|\n",
            "+-------+-------------+---------------+-----------------+---------+--------------+------+---+----+\n",
            "only showing top 100 rows\n",
            "\n"
          ]
        }
      ]
    },
    {
      "cell_type": "code",
      "source": [
        "# lets see the cheapest automatic cars\n",
        "cars_like_new.where(f.col(\"price\") < 10000).show()"
      ],
      "metadata": {
        "colab": {
          "base_uri": "https://localhost:8080/"
        },
        "id": "MdtDaQLtTCS1",
        "outputId": "92aa6cf1-dcae-4367-f1b7-ee10d3bca2c6"
      },
      "execution_count": null,
      "outputs": [
        {
          "output_type": "stream",
          "name": "stdout",
          "text": [
            "+-------+-------+-----+--------+---------+--------------+-----+----+----+\n",
            "|mileage|   make|model|    fuel|     gear|     offerType|price|  hp|year|\n",
            "+-------+-------+-----+--------+---------+--------------+-----+----+----+\n",
            "|    150| Others| NULL|Electric|Automatic|Employee's car| 4490|NULL|2020|\n",
            "|   1000| Others| NULL|Electric|Automatic|          Used| 3580|   5|2012|\n",
            "|    990|Renault|Twizy|Electric|Automatic|          Used| 4690|  11|2012|\n",
            "|      0| Others| NULL|Electric|Automatic|          Used| 5999|   3|2019|\n",
            "|     40| Others| NULL|Electric|Automatic|          Used| 9870|  52|2019|\n",
            "|    300| Others| NULL|Electric|Automatic|          Used| 7000|   5|2019|\n",
            "|    100|Renault|  ZOE|Electric|Automatic|Pre-registered| 9880|  72|2020|\n",
            "+-------+-------+-----+--------+---------+--------------+-----+----+----+\n",
            "\n"
          ]
        }
      ]
    },
    {
      "cell_type": "code",
      "source": [
        "cars_like_new_pricess = cars_like_new.agg(\n",
        "    f.min(f.col(\"price\")).alias(\"min_price\"),\n",
        "    f.max(f.col(\"price\")).alias(\"max_price\"),\n",
        "    f.round(f.avg(f.col(\"price\")),2).alias(\"avg_price\")\n",
        ")\n",
        "\n",
        "# Show the aggregated results\n",
        "cars_like_new_pricess.show()"
      ],
      "metadata": {
        "colab": {
          "base_uri": "https://localhost:8080/"
        },
        "id": "GqVnQrThMFlU",
        "outputId": "2d16036f-0dfd-4c4e-bb4a-991a4dfa8e06"
      },
      "execution_count": null,
      "outputs": [
        {
          "output_type": "stream",
          "name": "stdout",
          "text": [
            "+---------+---------+---------+\n",
            "|min_price|max_price|avg_price|\n",
            "+---------+---------+---------+\n",
            "|     3580|  1199900| 37131.95|\n",
            "+---------+---------+---------+\n",
            "\n"
          ]
        }
      ]
    },
    {
      "cell_type": "code",
      "source": [
        "cars_like_new_prices = data.select(\"mileage\", \"gear\", \"price\") \\\n",
        "                        .where((f.col(\"mileage\") < 1000) & (f.col(\"gear\") == \"Automatic\"))"
      ],
      "metadata": {
        "id": "-6J_uLywOpIL"
      },
      "execution_count": null,
      "outputs": []
    },
    {
      "cell_type": "code",
      "source": [
        "cars_like_new_prices.show(100)"
      ],
      "metadata": {
        "colab": {
          "base_uri": "https://localhost:8080/"
        },
        "id": "n0kLSVVTPnUc",
        "outputId": "667f90d0-4519-44aa-cb15-9f575defb9ac"
      },
      "execution_count": null,
      "outputs": [
        {
          "output_type": "stream",
          "name": "stdout",
          "text": [
            "+---------+---------+------------------+\n",
            "|min_price|max_price|         avg_price|\n",
            "+---------+---------+------------------+\n",
            "|   102800|     9880|37133.627057981386|\n",
            "+---------+---------+------------------+\n",
            "\n"
          ]
        }
      ]
    },
    {
      "cell_type": "code",
      "source": [
        "res = sqlsess.sql(\n",
        "    \"\"\"\n",
        "    select min(price) as min , max(price) as max , round(avg(price),2) as avg\n",
        "    from  CarsT\n",
        "    where mileage < 1000 and gear = \"Automatic\"\n",
        "    \"\"\"\n",
        ")"
      ],
      "metadata": {
        "id": "8IbZtUsePpRU"
      },
      "execution_count": null,
      "outputs": []
    },
    {
      "cell_type": "code",
      "source": [
        "res.show()"
      ],
      "metadata": {
        "colab": {
          "base_uri": "https://localhost:8080/"
        },
        "id": "nTiHJ9A5R9Y1",
        "outputId": "59f875a1-26d3-4adb-9c84-a4df56fb6bd6"
      },
      "execution_count": null,
      "outputs": [
        {
          "output_type": "stream",
          "name": "stdout",
          "text": [
            "+----+-------+--------+\n",
            "| min|    max|     avg|\n",
            "+----+-------+--------+\n",
            "|4490|1199900|37133.63|\n",
            "+----+-------+--------+\n",
            "\n"
          ]
        }
      ]
    },
    {
      "cell_type": "markdown",
      "source": [
        "get average price per model:\n"
      ],
      "metadata": {
        "id": "xVscpvSINcmS"
      }
    },
    {
      "cell_type": "code",
      "source": [
        "price_per_model = new_data.groupBy(f.col(\"make\")) \\\n",
        "                          .agg(f.round(f.avg(f.col(\"price\")),2).alias(\"avg_price\"))"
      ],
      "metadata": {
        "id": "orl8O-9fPRm0"
      },
      "execution_count": null,
      "outputs": []
    },
    {
      "cell_type": "code",
      "source": [
        "price_per_model.show()"
      ],
      "metadata": {
        "colab": {
          "base_uri": "https://localhost:8080/"
        },
        "id": "e7IJTLAaPx8B",
        "outputId": "75fcf557-a37f-43ba-92b9-86a855bdcd39"
      },
      "execution_count": null,
      "outputs": [
        {
          "output_type": "stream",
          "name": "stdout",
          "text": [
            "+--------------+---------+\n",
            "|          make|avg_price|\n",
            "+--------------+---------+\n",
            "|        Zhidou|  12500.0|\n",
            "|    Volkswagen| 16065.93|\n",
            "|      Infiniti|  16329.6|\n",
            "|       Peugeot|  9942.04|\n",
            "|        Alpina|  66046.3|\n",
            "|         Lexus| 42299.17|\n",
            "|      Polestar|  64150.0|\n",
            "|        Jaguar| 42385.33|\n",
            "|      Maserati| 72480.58|\n",
            "|   Rolls-Royce|196266.67|\n",
            "|         Aixam| 16016.67|\n",
            "|Caravans-Wohnm| 19146.67|\n",
            "|          Jeep| 28454.14|\n",
            "|        Lancia|   6295.5|\n",
            "|    Mitsubishi| 10181.47|\n",
            "|           9ff|   7000.0|\n",
            "|           Kia|  13403.2|\n",
            "|     Chevrolet|  6699.75|\n",
            "|       Piaggio|   7077.8|\n",
            "|    Trucks-Lkw|   8200.0|\n",
            "+--------------+---------+\n",
            "only showing top 20 rows\n",
            "\n"
          ]
        }
      ]
    },
    {
      "cell_type": "code",
      "source": [
        "numbers_of_companies = new_data.agg(f.countDistinct(\"make\").alias(\"number_companies\")).show()"
      ],
      "metadata": {
        "colab": {
          "base_uri": "https://localhost:8080/"
        },
        "id": "6Ch2_HdKP-UQ",
        "outputId": "95c01f8d-bd0d-4cf2-c322-036902dcda45"
      },
      "execution_count": null,
      "outputs": [
        {
          "output_type": "stream",
          "name": "stdout",
          "text": [
            "+----------------+\n",
            "|number_companies|\n",
            "+----------------+\n",
            "|              77|\n",
            "+----------------+\n",
            "\n"
          ]
        }
      ]
    },
    {
      "cell_type": "markdown",
      "source": [
        "do them in SQL"
      ],
      "metadata": {
        "id": "DyR9G_hNQvR7"
      }
    },
    {
      "cell_type": "code",
      "source": [
        "res3 = sqlsess.sql(\n",
        "    \"\"\"\n",
        "    select make, round(avg(price),2) as avg_price\n",
        "    from carsT\n",
        "    group by make\n",
        "    \"\"\"\n",
        ")"
      ],
      "metadata": {
        "id": "8-L2z-GPQVoH"
      },
      "execution_count": null,
      "outputs": []
    },
    {
      "cell_type": "code",
      "source": [
        "res3.show()"
      ],
      "metadata": {
        "colab": {
          "base_uri": "https://localhost:8080/"
        },
        "id": "ZZeVFqP-RKpV",
        "outputId": "9df30f3d-66c5-4255-f08c-57d1c88a0c77"
      },
      "execution_count": null,
      "outputs": [
        {
          "output_type": "stream",
          "name": "stdout",
          "text": [
            "+--------------+---------+\n",
            "|          make|avg_price|\n",
            "+--------------+---------+\n",
            "|        Zhidou|  12500.0|\n",
            "|    Volkswagen| 16065.93|\n",
            "|      Infiniti|  16329.6|\n",
            "|       Peugeot|  9942.04|\n",
            "|        Alpina|  66046.3|\n",
            "|         Lexus| 42299.17|\n",
            "|      Polestar|  64150.0|\n",
            "|        Jaguar| 42385.33|\n",
            "|      Maserati| 72480.58|\n",
            "|   Rolls-Royce|196266.67|\n",
            "|         Aixam| 16016.67|\n",
            "|Caravans-Wohnm| 19146.67|\n",
            "|          Jeep| 28454.14|\n",
            "|        Lancia|   6295.5|\n",
            "|    Mitsubishi| 10181.47|\n",
            "|           9ff|   7000.0|\n",
            "|           Kia|  13403.2|\n",
            "|     Chevrolet|  6699.75|\n",
            "|       Piaggio|   7077.8|\n",
            "|    Trucks-Lkw|   8200.0|\n",
            "+--------------+---------+\n",
            "only showing top 20 rows\n",
            "\n"
          ]
        }
      ]
    },
    {
      "cell_type": "code",
      "source": [
        "res4 = sqlsess.sql(\n",
        "    \"\"\"\n",
        "    select count(distinct make) as number_companies\n",
        "    from carsT\n",
        "   \"\"\"\n",
        ")"
      ],
      "metadata": {
        "id": "koBWoe_bRM6I"
      },
      "execution_count": null,
      "outputs": []
    },
    {
      "cell_type": "code",
      "source": [
        "res4.show()"
      ],
      "metadata": {
        "colab": {
          "base_uri": "https://localhost:8080/"
        },
        "id": "7Dbj0bslR6Hf",
        "outputId": "f1eb6464-d47f-4d3c-c791-0dc0332da85b"
      },
      "execution_count": null,
      "outputs": [
        {
          "output_type": "stream",
          "name": "stdout",
          "text": [
            "+----------------+\n",
            "|number_companies|\n",
            "+----------------+\n",
            "|              77|\n",
            "+----------------+\n",
            "\n"
          ]
        }
      ]
    },
    {
      "cell_type": "markdown",
      "source": [
        "I saw that the fuel table has Electric/Gasoline options i want to split them and create a table for each of them or wherever / occurs"
      ],
      "metadata": {
        "id": "iKQJ3QboU0S3"
      }
    },
    {
      "cell_type": "code",
      "source": [
        "special_char_infuel = new_data.select(f.col(\"fuel\")) \\\n",
        "                              .select(f.col(\"fuel\"), f.split(f.col(\"fuel\") ,\"/\").alias(\"splitted\"))\\\n",
        "                              .select(f.col(\"fuel\"), f.col(\"splitted\")[0].alias(\"first_opt\"), f.col(\"splitted\")[1].alias(\"second_opt\") )\\\n",
        "                              .where((f.col(\"fuel\").contains('/')) & (~f.col(\"fuel\").contains('-')))\n"
      ],
      "metadata": {
        "id": "3hOYNlWvR70j"
      },
      "execution_count": null,
      "outputs": []
    },
    {
      "cell_type": "code",
      "source": [
        "special_char_infuel.show()"
      ],
      "metadata": {
        "colab": {
          "base_uri": "https://localhost:8080/"
        },
        "id": "E0bXkiaeWKCv",
        "outputId": "ce564061-8ca6-4601-b15b-0c6e6954e45a"
      },
      "execution_count": null,
      "outputs": [
        {
          "output_type": "stream",
          "name": "stdout",
          "text": [
            "+-----------------+---------+----------+\n",
            "|             fuel|first_opt|second_opt|\n",
            "+-----------------+---------+----------+\n",
            "|Electric/Gasoline| Electric|  Gasoline|\n",
            "|Electric/Gasoline| Electric|  Gasoline|\n",
            "|Electric/Gasoline| Electric|  Gasoline|\n",
            "|Electric/Gasoline| Electric|  Gasoline|\n",
            "|Electric/Gasoline| Electric|  Gasoline|\n",
            "|Electric/Gasoline| Electric|  Gasoline|\n",
            "|Electric/Gasoline| Electric|  Gasoline|\n",
            "|Electric/Gasoline| Electric|  Gasoline|\n",
            "|Electric/Gasoline| Electric|  Gasoline|\n",
            "|Electric/Gasoline| Electric|  Gasoline|\n",
            "|Electric/Gasoline| Electric|  Gasoline|\n",
            "|  Electric/Diesel| Electric|    Diesel|\n",
            "|Electric/Gasoline| Electric|  Gasoline|\n",
            "|Electric/Gasoline| Electric|  Gasoline|\n",
            "|Electric/Gasoline| Electric|  Gasoline|\n",
            "|Electric/Gasoline| Electric|  Gasoline|\n",
            "|Electric/Gasoline| Electric|  Gasoline|\n",
            "|Electric/Gasoline| Electric|  Gasoline|\n",
            "|Electric/Gasoline| Electric|  Gasoline|\n",
            "|Electric/Gasoline| Electric|  Gasoline|\n",
            "+-----------------+---------+----------+\n",
            "only showing top 20 rows\n",
            "\n"
          ]
        }
      ]
    },
    {
      "cell_type": "code",
      "source": [
        "#count how many option there are in the first and second options\n",
        "special_char_infuel.select(f.countDistinct(f.col(\"first_opt\")).alias(\"count_first_opt\"),\n",
        "                           f.countDistinct(f.col(\"second_opt\")).alias(\"count_second_opt\")\n",
        "                           ).show()"
      ],
      "metadata": {
        "colab": {
          "base_uri": "https://localhost:8080/"
        },
        "id": "obT3PwM1YL4O",
        "outputId": "7ce74a25-a0ad-4828-c663-ace08977aa22"
      },
      "execution_count": null,
      "outputs": [
        {
          "output_type": "stream",
          "name": "stdout",
          "text": [
            "+---------------+----------------+\n",
            "|count_first_opt|count_second_opt|\n",
            "+---------------+----------------+\n",
            "|              1|               2|\n",
            "+---------------+----------------+\n",
            "\n"
          ]
        }
      ]
    },
    {
      "cell_type": "markdown",
      "source": [
        "Do the same in SQL:"
      ],
      "metadata": {
        "id": "Vu4_q9zVZAAf"
      }
    },
    {
      "cell_type": "code",
      "source": [
        "res5 = sqlsess.sql(\n",
        "    \"\"\"\n",
        "\n",
        "  select fuel, split(fuel, \"/\")[0] as first_opt, split(fuel, \"/\")[1] as second_opt\n",
        "      from carsT\n",
        "    where fuel like \"%/%\" and fuel not like \"%-%\"\n",
        "    \"\"\"\n",
        ")"
      ],
      "metadata": {
        "id": "JRjrhxCoWlXi"
      },
      "execution_count": null,
      "outputs": []
    },
    {
      "cell_type": "code",
      "source": [
        "res5.show()"
      ],
      "metadata": {
        "colab": {
          "base_uri": "https://localhost:8080/"
        },
        "id": "oU72vS5wb_6F",
        "outputId": "705276b8-5a60-4b61-c6bb-b147a4dd3da3"
      },
      "execution_count": null,
      "outputs": [
        {
          "output_type": "stream",
          "name": "stdout",
          "text": [
            "+-----------------+---------+----------+\n",
            "|             fuel|first_opt|second_opt|\n",
            "+-----------------+---------+----------+\n",
            "|Electric/Gasoline| Electric|  Gasoline|\n",
            "|Electric/Gasoline| Electric|  Gasoline|\n",
            "|Electric/Gasoline| Electric|  Gasoline|\n",
            "|Electric/Gasoline| Electric|  Gasoline|\n",
            "|Electric/Gasoline| Electric|  Gasoline|\n",
            "|Electric/Gasoline| Electric|  Gasoline|\n",
            "|Electric/Gasoline| Electric|  Gasoline|\n",
            "|Electric/Gasoline| Electric|  Gasoline|\n",
            "|Electric/Gasoline| Electric|  Gasoline|\n",
            "|Electric/Gasoline| Electric|  Gasoline|\n",
            "|Electric/Gasoline| Electric|  Gasoline|\n",
            "|  Electric/Diesel| Electric|    Diesel|\n",
            "|Electric/Gasoline| Electric|  Gasoline|\n",
            "|Electric/Gasoline| Electric|  Gasoline|\n",
            "|Electric/Gasoline| Electric|  Gasoline|\n",
            "|Electric/Gasoline| Electric|  Gasoline|\n",
            "|Electric/Gasoline| Electric|  Gasoline|\n",
            "|Electric/Gasoline| Electric|  Gasoline|\n",
            "|Electric/Gasoline| Electric|  Gasoline|\n",
            "|Electric/Gasoline| Electric|  Gasoline|\n",
            "+-----------------+---------+----------+\n",
            "only showing top 20 rows\n",
            "\n"
          ]
        }
      ]
    },
    {
      "cell_type": "code",
      "source": [
        "res6 = sqlsess.sql(\n",
        "    \"\"\"\n",
        "    With split_values as(\n",
        "\n",
        "      select fuel, split(fuel, \"/\")[0] as first_opt, split(fuel, \"/\")[1] as second_opt\n",
        "      from carsT\n",
        "    where fuel like \"%/%\" and fuel not like \"%-%\"\n",
        "\n",
        "    )\n",
        "\n",
        "    select count(Distinct first_opt) as count_first_opt, count(Distinct second_opt) as count_second_opt\n",
        "    from split_values\n",
        "\n",
        "    \"\"\"\n",
        ")"
      ],
      "metadata": {
        "id": "E8zWPZh0cLoo"
      },
      "execution_count": null,
      "outputs": []
    },
    {
      "cell_type": "code",
      "source": [
        "res6.show()"
      ],
      "metadata": {
        "colab": {
          "base_uri": "https://localhost:8080/"
        },
        "id": "DDKUruHCdN32",
        "outputId": "11e5af3b-ef57-4667-8c9a-9c861b16d137"
      },
      "execution_count": null,
      "outputs": [
        {
          "output_type": "stream",
          "name": "stdout",
          "text": [
            "+---------------+----------------+\n",
            "|count_first_opt|count_second_opt|\n",
            "+---------------+----------------+\n",
            "|              1|               2|\n",
            "+---------------+----------------+\n",
            "\n"
          ]
        }
      ]
    },
    {
      "cell_type": "markdown",
      "source": [
        "I still need to do concatinating and goal checked for today:"
      ],
      "metadata": {
        "id": "i7AvQy1EdoDO"
      }
    },
    {
      "cell_type": "code",
      "source": [
        "new_data.show()"
      ],
      "metadata": {
        "colab": {
          "base_uri": "https://localhost:8080/"
        },
        "id": "-A6SCexQdPrx",
        "outputId": "5d6af974-fc1f-4432-a9bc-ac3ac61e707c"
      },
      "execution_count": null,
      "outputs": [
        {
          "output_type": "stream",
          "name": "stdout",
          "text": [
            "+-------+-------------+------------+-----------------+---------+---------+-----+---+----+\n",
            "|mileage|         make|       model|             fuel|     gear|offerType|price| hp|year|\n",
            "+-------+-------------+------------+-----------------+---------+---------+-----+---+----+\n",
            "| 235000|          BMW|         316|           Diesel|   Manual|     Used| 6800|116|2011|\n",
            "|  92800|   Volkswagen|        Golf|         Gasoline|   Manual|     Used| 6877|122|2011|\n",
            "| 149300|         SEAT|        Exeo|         Gasoline|   Manual|     Used| 6900|160|2011|\n",
            "|  96200|      Renault|      Megane|         Gasoline|   Manual|     Used| 6950|110|2011|\n",
            "| 156000|      Peugeot|         308|         Gasoline|   Manual|     Used| 6950|156|2011|\n",
            "| 147000|       Toyota|       Auris|Electric/Gasoline|Automatic|     Used| 6950| 99|2011|\n",
            "|  91894|      Renault|      Scenic|           Diesel|   Manual|     Used| 6970|131|2011|\n",
            "| 127500|         Opel|      Zafira|         Gasoline|   Manual|     Used| 6972|116|2011|\n",
            "| 115000|        Mazda|           3|         Gasoline|Automatic|     Used| 6980|150|2011|\n",
            "|    104|         Ford|     Transit|           Diesel|   Manual|     Used| 6990| 86|2011|\n",
            "|  59580|         Opel|      Meriva|           Diesel|Automatic|     Used| 6990|101|2011|\n",
            "|  84000|   Volkswagen|        Golf|         Gasoline|   Manual|     Used| 6990|105|2011|\n",
            "| 427000|Mercedes-Benz|       E 250|           Diesel|Automatic|     Used| 6990|204|2011|\n",
            "| 109000|    Chevrolet|     Orlando|         Gasoline|   Manual|     Used| 6990|141|2011|\n",
            "| 194020|         Audi|          A4|           Diesel|   Manual|     Used| 6999|120|2011|\n",
            "|  72000|   Volkswagen|        Polo|         Gasoline|   Manual|     Used| 6999| 60|2011|\n",
            "| 190000|      Renault|      Espace|           Diesel|   Manual|     Used| 6999|150|2011|\n",
            "| 190000|      Renault|Grand Espace|           Diesel|   Manual|     Used| 6999|150|2011|\n",
            "|  85700|         Fiat|      Sedici|           Diesel|   Manual|     Used| 6999|135|2011|\n",
            "|  82000|         Opel|       Corsa|         Gasoline|   Manual|     Used| 7000|101|2011|\n",
            "+-------+-------------+------------+-----------------+---------+---------+-----+---+----+\n",
            "only showing top 20 rows\n",
            "\n"
          ]
        }
      ]
    },
    {
      "cell_type": "code",
      "source": [
        "new_data.select( f.concat_ws(\" \", (f.col(\"make\")), f.col(\"model\") ) ).show()"
      ],
      "metadata": {
        "colab": {
          "base_uri": "https://localhost:8080/"
        },
        "id": "xbnIiCrGozC7",
        "outputId": "62eadf10-76c7-435c-a089-d98fa327c5fb"
      },
      "execution_count": null,
      "outputs": [
        {
          "output_type": "stream",
          "name": "stdout",
          "text": [
            "+-------------------------+\n",
            "|concat_ws( , make, model)|\n",
            "+-------------------------+\n",
            "|                  BMW 316|\n",
            "|          Volkswagen Golf|\n",
            "|                SEAT Exeo|\n",
            "|           Renault Megane|\n",
            "|              Peugeot 308|\n",
            "|             Toyota Auris|\n",
            "|           Renault Scenic|\n",
            "|              Opel Zafira|\n",
            "|                  Mazda 3|\n",
            "|             Ford Transit|\n",
            "|              Opel Meriva|\n",
            "|          Volkswagen Golf|\n",
            "|      Mercedes-Benz E 250|\n",
            "|        Chevrolet Orlando|\n",
            "|                  Audi A4|\n",
            "|          Volkswagen Polo|\n",
            "|           Renault Espace|\n",
            "|     Renault Grand Espace|\n",
            "|              Fiat Sedici|\n",
            "|               Opel Corsa|\n",
            "+-------------------------+\n",
            "only showing top 20 rows\n",
            "\n"
          ]
        }
      ]
    },
    {
      "cell_type": "markdown",
      "source": [
        "With SQL"
      ],
      "metadata": {
        "id": "t_HsuMTcreJ3"
      }
    },
    {
      "cell_type": "code",
      "source": [
        "Res7 = sqlsess.sql(\n",
        "\n",
        "      \"\"\"\n",
        "      select concat(make,\" \", model) from carst\n",
        "\n",
        "      \"\"\"\n",
        "\n",
        ")\n",
        "Res7.show()"
      ],
      "metadata": {
        "colab": {
          "base_uri": "https://localhost:8080/"
        },
        "id": "x0QibxqgpXOF",
        "outputId": "7b30a731-126f-4872-b040-351aaef5b181"
      },
      "execution_count": null,
      "outputs": [
        {
          "output_type": "stream",
          "name": "stdout",
          "text": [
            "+----------------------+\n",
            "|concat(make,  , model)|\n",
            "+----------------------+\n",
            "|               BMW 316|\n",
            "|       Volkswagen Golf|\n",
            "|             SEAT Exeo|\n",
            "|        Renault Megane|\n",
            "|           Peugeot 308|\n",
            "|          Toyota Auris|\n",
            "|        Renault Scenic|\n",
            "|           Opel Zafira|\n",
            "|               Mazda 3|\n",
            "|          Ford Transit|\n",
            "|           Opel Meriva|\n",
            "|       Volkswagen Golf|\n",
            "|   Mercedes-Benz E 250|\n",
            "|     Chevrolet Orlando|\n",
            "|               Audi A4|\n",
            "|       Volkswagen Polo|\n",
            "|        Renault Espace|\n",
            "|  Renault Grand Espace|\n",
            "|           Fiat Sedici|\n",
            "|            Opel Corsa|\n",
            "+----------------------+\n",
            "only showing top 20 rows\n",
            "\n"
          ]
        }
      ]
    },
    {
      "cell_type": "markdown",
      "source": [
        "List make\n",
        "\n",
        "\n",
        "\n",
        "companies that only have Manual cars:\n"
      ],
      "metadata": {
        "id": "UOpNc-n4sqp_"
      }
    },
    {
      "cell_type": "code",
      "source": [
        "data.groupBy(\"make\").agg(g.collect_set(\"gear\").alias(\"types\"))\\\n",
        "                    .filter((f.size(\"types\") == 1) & f.array_contains(f.col(\"types\"), \"Automatic\") )"
      ],
      "metadata": {
        "id": "K2--ZdEhtXr4"
      },
      "execution_count": null,
      "outputs": []
    },
    {
      "cell_type": "code",
      "source": [
        "data1 = new_data.groupBy(\"make\").agg(f.collect_set(\"gear\").alias(\"collected_gear\"))\\\n",
        "                                .select(\"make\")\\\n",
        "                                .where((f.size(\"collected_gear\")==1) & (f.array_contains(f.col(\"collected_gear\"),\"Automatic\")))\n",
        "data1.show()"
      ],
      "metadata": {
        "colab": {
          "base_uri": "https://localhost:8080/"
        },
        "id": "cf22q8navhzA",
        "outputId": "208c7c11-cb2f-43cb-e4d2-d0b0f28a1a13"
      },
      "execution_count": null,
      "outputs": [
        {
          "output_type": "stream",
          "name": "stdout",
          "text": [
            "+-----------+\n",
            "|       make|\n",
            "+-----------+\n",
            "|     Zhidou|\n",
            "|     Alpina|\n",
            "|   Polestar|\n",
            "|   Maserati|\n",
            "|Rolls-Royce|\n",
            "|      Aixam|\n",
            "|        RAM|\n",
            "|Lamborghini|\n",
            "|     Ligier|\n",
            "|    Estrima|\n",
            "|    McLaren|\n",
            "|      Tesla|\n",
            "|   Chrysler|\n",
            "|    Ferrari|\n",
            "|    Bentley|\n",
            "|    Maybach|\n",
            "|     FISKER|\n",
            "|       DFSK|\n",
            "+-----------+\n",
            "\n"
          ]
        }
      ]
    },
    {
      "cell_type": "code",
      "source": [
        "res8 = sqlsess.sql(\n",
        "    \"\"\"\n",
        "    SELECT make\n",
        "    FROM (\n",
        "        SELECT\n",
        "            make,\n",
        "            COUNT(DISTINCT CASE WHEN gear = 'Automatic' THEN gear ELSE NULL END) AS automatic_count,\n",
        "            COUNT(DISTINCT gear) AS total_gear_count\n",
        "        FROM carst\n",
        "        GROUP BY make\n",
        "    ) AS subquery\n",
        "    WHERE automatic_count = 1 AND total_gear_count = 1;\n",
        "\n",
        "    \"\"\"\n",
        ")"
      ],
      "metadata": {
        "id": "M7JJtDTXuJ3m"
      },
      "execution_count": null,
      "outputs": []
    },
    {
      "cell_type": "code",
      "source": [
        "res8.show()"
      ],
      "metadata": {
        "colab": {
          "base_uri": "https://localhost:8080/"
        },
        "id": "XOvyW2xL3a6U",
        "outputId": "95dad2d6-55fa-4646-d895-2626219e7b6d"
      },
      "execution_count": null,
      "outputs": [
        {
          "output_type": "stream",
          "name": "stdout",
          "text": [
            "+-----------+\n",
            "|       make|\n",
            "+-----------+\n",
            "|     Zhidou|\n",
            "|     Alpina|\n",
            "|   Polestar|\n",
            "|   Maserati|\n",
            "|Rolls-Royce|\n",
            "|      Aixam|\n",
            "|        RAM|\n",
            "|Lamborghini|\n",
            "|     Ligier|\n",
            "|    Estrima|\n",
            "|    McLaren|\n",
            "|      Tesla|\n",
            "|   Chrysler|\n",
            "|    Ferrari|\n",
            "|    Bentley|\n",
            "|    Maybach|\n",
            "|     FISKER|\n",
            "|       DFSK|\n",
            "+-----------+\n",
            "\n"
          ]
        }
      ]
    },
    {
      "cell_type": "markdown",
      "source": [
        "For each fuel type, I want to find the make and model that has the highest average horsepower to price ratio, indicating which cars offer more power per unit of price among those fueled similarly."
      ],
      "metadata": {
        "id": "AGx-TwXudixH"
      }
    },
    {
      "cell_type": "markdown",
      "source": [
        "Price Ratio= Price / Horsepower (hp)\n",
        "**​**"
      ],
      "metadata": {
        "id": "IMOCqGDAd6wQ"
      }
    },
    {
      "cell_type": "code",
      "source": [
        "price_ratio = new_data.groupBy(\"make\", \"model\")\\\n",
        "                      .agg(f.round((f.avg(\"price\")/f.avg(\"hp\")),2).alias(\"price_ratio\"))\\\n",
        "                      .sort(f.col(\"price_ratio\").desc())\\\n",
        "                      .filter((f.col(\"make\")!= \"NULL\") & (f.col(\"model\") != \"NULL\") )\n"
      ],
      "metadata": {
        "id": "ZqaChDO0dbTI"
      },
      "execution_count": null,
      "outputs": []
    },
    {
      "cell_type": "markdown",
      "source": [
        "Worst 10"
      ],
      "metadata": {
        "id": "-Im9Ul7iil0f"
      }
    },
    {
      "cell_type": "code",
      "source": [
        "price_ratio.head(10)"
      ],
      "metadata": {
        "colab": {
          "base_uri": "https://localhost:8080/"
        },
        "id": "RuFTQdJ-fiKJ",
        "outputId": "59c6875d-7c26-442d-bbc5-42a3abb1e204"
      },
      "execution_count": null,
      "outputs": [
        {
          "output_type": "execute_result",
          "data": {
            "text/plain": [
              "[Row(make='Estrima', model='Birò', price_ratio=2618.0),\n",
              " Row(make='Aixam', model='City', price_ratio=1990.0),\n",
              " Row(make='Ligier', model='JS 50', price_ratio=1914.0),\n",
              " Row(make='Ferrari', model='F12', price_ratio=1548.26),\n",
              " Row(make='Microcar', model='M.Go', price_ratio=1410.73),\n",
              " Row(make='Mercedes-Benz', model='S 650', price_ratio=1138.22),\n",
              " Row(make='Maybach', model='Pullman', price_ratio=1049.03),\n",
              " Row(make='Microcar', model='M8', price_ratio=1024.92),\n",
              " Row(make='Microcar', model='Due', price_ratio=899.33),\n",
              " Row(make='Morgan', model='3-Wheeler', price_ratio=822.06)]"
            ]
          },
          "metadata": {},
          "execution_count": 49
        }
      ]
    },
    {
      "cell_type": "markdown",
      "source": [
        "Best 10"
      ],
      "metadata": {
        "id": "VrRA23aPjS1r"
      }
    },
    {
      "cell_type": "code",
      "source": [
        "price_ratio.tail(10)"
      ],
      "metadata": {
        "colab": {
          "base_uri": "https://localhost:8080/"
        },
        "id": "9FtE3vmzjRHi",
        "outputId": "064ea813-3171-4280-bab0-93568572340c"
      },
      "execution_count": null,
      "outputs": [
        {
          "output_type": "execute_result",
          "data": {
            "text/plain": [
              "[Row(make='Nissan', model='Pathfinder', price_ratio=36.84),\n",
              " Row(make='Renault', model='Latitude', price_ratio=35.23),\n",
              " Row(make='Chrysler', model='Grand Voyager', price_ratio=34.84),\n",
              " Row(make='Dodge', model='Journey', price_ratio=32.14),\n",
              " Row(make='Lancia', model='Thema', price_ratio=27.94),\n",
              " Row(make='Kia', model='Carnival', price_ratio=26.33),\n",
              " Row(make='Others', model='Landwind', price_ratio=19.07),\n",
              " Row(make='Brilliance', model='BS4', price_ratio=14.85),\n",
              " Row(make='Lada', model='Priora', price_ratio=12.14),\n",
              " Row(make='Caravans-Wohnm', model='Adria', price_ratio=None)]"
            ]
          },
          "metadata": {},
          "execution_count": 50
        }
      ]
    },
    {
      "cell_type": "markdown",
      "source": [
        "Using SQL"
      ],
      "metadata": {
        "id": "nt7sa7KRlEdW"
      }
    },
    {
      "cell_type": "code",
      "source": [
        "Res9 = sqlsess.sql(\n",
        "    \"\"\"\n",
        "    Select make, model, round(avg(price)/avg(hp) ,2)as Avg_price\n",
        "    from CarsT\n",
        "    where make is not null and model  is not null\n",
        "    group by make, model\n",
        "    having Avg_price is not null\n",
        "    order by Avg_price desc\n",
        "    \"\"\"\n",
        ")"
      ],
      "metadata": {
        "id": "J9KPfk2feieQ"
      },
      "execution_count": null,
      "outputs": []
    },
    {
      "cell_type": "code",
      "source": [
        "Res9.show()"
      ],
      "metadata": {
        "colab": {
          "base_uri": "https://localhost:8080/"
        },
        "id": "alTS9rTTmkeL",
        "outputId": "c23f5419-507b-4ed9-f49f-3c1607d6bb70"
      },
      "execution_count": null,
      "outputs": [
        {
          "output_type": "stream",
          "name": "stdout",
          "text": [
            "+-------------+---------------+---------+\n",
            "|         make|          model|Avg_price|\n",
            "+-------------+---------------+---------+\n",
            "|      Estrima|           Birò|   2618.0|\n",
            "|        Aixam|           City|   1990.0|\n",
            "|       Ligier|          JS 50|   1914.0|\n",
            "|      Ferrari|            F12|  1548.26|\n",
            "|     Microcar|           M.Go|  1410.73|\n",
            "|Mercedes-Benz|          S 650|  1138.22|\n",
            "|      Maybach|        Pullman|  1049.03|\n",
            "|     Microcar|             M8|  1024.92|\n",
            "|     Microcar|            Due|   899.33|\n",
            "|       Morgan|      3-Wheeler|   822.06|\n",
            "|      Piaggio|            Ape|   765.83|\n",
            "|        Aston|         Martin|   658.94|\n",
            "|      Ferrari|            812|   550.56|\n",
            "|       Zhidou|            D2S|   520.83|\n",
            "|  Lamborghini|      Aventador|   507.52|\n",
            "|      Renault|          Twizy|   504.09|\n",
            "|      Bentley|    Flying Spur|   458.21|\n",
            "|   Volkswagen|T6.1 California|   447.86|\n",
            "|      McLaren|          675LT|   441.99|\n",
            "|      Bentley|       Bentayga|   437.99|\n",
            "+-------------+---------------+---------+\n",
            "only showing top 20 rows\n",
            "\n"
          ]
        }
      ]
    },
    {
      "cell_type": "code",
      "source": [
        "#########################################################################################################################################\n",
        "#########################################################################################################################################\n",
        "#########################################################################################################################################\n",
        "#########################################################################################################################################\n",
        "#########################################################################################################################################\n",
        "#########################################################################################################################################\n",
        "\n",
        "                                                              # SECTION 2 #\n",
        "\n",
        "#########################################################################################################################################\n",
        "#########################################################################################################################################\n",
        "#########################################################################################################################################\n",
        "#########################################################################################################################################\n",
        "#########################################################################################################################################\n",
        "#########################################################################################################################################"
      ],
      "metadata": {
        "id": "F_VufdTpk8MH"
      },
      "execution_count": null,
      "outputs": []
    },
    {
      "cell_type": "markdown",
      "source": [
        "In this section i will work with txt files, but first i will try to cheat and create a schema for the file, in order to switch it to a dataframe and then work easily with it."
      ],
      "metadata": {
        "id": "u1D8npt3lSml"
      }
    },
    {
      "cell_type": "code",
      "source": [
        "file_tempreturerdd = sc.textFile(\"CorrectedTemperatures.txt\")"
      ],
      "metadata": {
        "id": "vTOYRdWAlQ6q"
      },
      "execution_count": null,
      "outputs": []
    },
    {
      "cell_type": "code",
      "source": [
        "# file_tempreture = file_tempreturerdd.map(lambda row : row.split(\",\"))\n",
        "\n",
        "header = file_tempreturerdd.first()\n",
        "\n",
        "file_tempreture3 = file_tempreturerdd.filter(lambda line : line != header)\\\n",
        "                                    .map(lambda row : row.split(\",\"))\\\n",
        "                                    .map(lambda col: Row(\n",
        "                                      date = col[0].strip(),\n",
        "                                      city = col[1].strip(),\n",
        "                                      country = col[2].strip(),\n",
        "                                      max_temperature = float(col[3].strip()),\n",
        "                                      min_temperature = float(col[4].strip())\n",
        "\n",
        "                                        )\n",
        "                                        )\n",
        "\n",
        "# now we can create the data by simply\n",
        "DF_TEMP = sqlsess.createDataFrame(file_tempreture3)\n"
      ],
      "metadata": {
        "id": "MewlDKy0mI9w"
      },
      "execution_count": null,
      "outputs": []
    },
    {
      "cell_type": "markdown",
      "source": [
        "In this way we have our data as a pyspark dataframe file."
      ],
      "metadata": {
        "id": "5rJRmgQxqQ79"
      }
    },
    {
      "cell_type": "code",
      "source": [
        "DF_TEMP.show()"
      ],
      "metadata": {
        "colab": {
          "base_uri": "https://localhost:8080/"
        },
        "id": "Pc66V1OdneDx",
        "outputId": "84d414d5-a273-49e5-94e0-f4a4a053b437"
      },
      "execution_count": null,
      "outputs": [
        {
          "output_type": "stream",
          "name": "stdout",
          "text": [
            "+----------+------+-------+---------------+---------------+\n",
            "|      date|  city|country|max_temperature|min_temperature|\n",
            "+----------+------+-------+---------------+---------------+\n",
            "|2020/01/28| Paris| France|           23.0|           21.9|\n",
            "|2020/01/13| Paris| France|           22.7|            9.6|\n",
            "|2020/06/10| Paris| France|           29.5|           17.2|\n",
            "|2020/06/27| Paris| France|            2.3|           -0.5|\n",
            "|2020/05/11| Paris| France|           24.8|           17.8|\n",
            "|2020/08/28|Berlin|Germany|           20.2|            6.2|\n",
            "|2020/08/01|Berlin|Germany|           11.3|           -4.3|\n",
            "|2020/04/06|Berlin|Germany|           31.0|           21.1|\n",
            "|2020/11/09|Berlin|Germany|           28.9|           13.6|\n",
            "|2020/08/28|Berlin|Germany|           23.7|           -5.6|\n",
            "|2020/12/20|  Rome|  Italy|           29.3|           24.1|\n",
            "|2020/10/17|  Rome|  Italy|           27.1|           19.6|\n",
            "|2020/06/08|  Rome|  Italy|           24.7|           16.3|\n",
            "|2020/01/23|  Rome|  Italy|           25.3|           -7.6|\n",
            "|2020/12/03|  Rome|  Italy|           25.1|           22.2|\n",
            "|2020/05/16|Madrid|  Spain|           26.0|           15.4|\n",
            "|2020/11/25|Madrid|  Spain|           24.1|           17.3|\n",
            "|2020/06/28|Madrid|  Spain|           27.5|           23.0|\n",
            "|2020/09/04|Madrid|  Spain|           34.0|           17.0|\n",
            "|2020/12/04|Madrid|  Spain|           21.1|           19.7|\n",
            "+----------+------+-------+---------------+---------------+\n",
            "only showing top 20 rows\n",
            "\n"
          ]
        }
      ]
    },
    {
      "cell_type": "markdown",
      "source": [
        "Now we will continue working on it as a RDD file to get the experience of working such files:"
      ],
      "metadata": {
        "id": "jyyhRnKZqqCc"
      }
    },
    {
      "cell_type": "code",
      "source": [
        "# take the raw rdd file, filter the first row which contains the column's name and split it.\n",
        "\n",
        "rdd_file = file_tempreturerdd.filter(lambda line: line  != header )\\\n",
        "                             .map(lambda row: row.split(\",\"))\n",
        "\n",
        "# the action in RDD is collect() to show the data as .show() in pyspark dataframe\n",
        "\n",
        "rdd_file.collect()"
      ],
      "metadata": {
        "colab": {
          "base_uri": "https://localhost:8080/"
        },
        "id": "5nOEBocTyxiZ",
        "outputId": "bc1c4f2d-2a24-4645-fb4b-7b4430e506b2"
      },
      "execution_count": null,
      "outputs": [
        {
          "output_type": "execute_result",
          "data": {
            "text/plain": [
              "[['2020/01/28', ' Paris', ' France', ' 23.0', ' 21.9'],\n",
              " ['2020/01/13', ' Paris', ' France', ' 22.7', ' 9.6'],\n",
              " ['2020/06/10', ' Paris', ' France', ' 29.5', ' 17.2'],\n",
              " ['2020/06/27', ' Paris', ' France', ' 2.3', ' -0.5'],\n",
              " ['2020/05/11', ' Paris', ' France', ' 24.8', ' 17.8'],\n",
              " ['2020/08/28', ' Berlin', ' Germany', ' 20.2', ' 6.2'],\n",
              " ['2020/08/01', ' Berlin', ' Germany', ' 11.3', ' -4.3'],\n",
              " ['2020/04/06', ' Berlin', ' Germany', ' 31.0', ' 21.1'],\n",
              " ['2020/11/09', ' Berlin', ' Germany', ' 28.9', ' 13.6'],\n",
              " ['2020/08/28', ' Berlin', ' Germany', ' 23.7', ' -5.6'],\n",
              " ['2020/12/20', ' Rome', ' Italy', ' 29.3', ' 24.1'],\n",
              " ['2020/10/17', ' Rome', ' Italy', ' 27.1', ' 19.6'],\n",
              " ['2020/06/08', ' Rome', ' Italy', ' 24.7', ' 16.3'],\n",
              " ['2020/01/23', ' Rome', ' Italy', ' 25.3', ' -7.6'],\n",
              " ['2020/12/03', ' Rome', ' Italy', ' 25.1', ' 22.2'],\n",
              " ['2020/05/16', ' Madrid', ' Spain', ' 26.0', ' 15.4'],\n",
              " ['2020/11/25', ' Madrid', ' Spain', ' 24.1', ' 17.3'],\n",
              " ['2020/06/28', ' Madrid', ' Spain', ' 27.5', ' 23.0'],\n",
              " ['2020/09/04', ' Madrid', ' Spain', ' 34.0', ' 17.0'],\n",
              " ['2020/12/04', ' Madrid', ' Spain', ' 21.1', ' 19.7'],\n",
              " ['2020/10/12', ' Vienna', ' Austria', ' 21.6', ' 3.8'],\n",
              " ['2020/06/02', ' Vienna', ' Austria', ' 23.0', ' 16.7'],\n",
              " ['2020/06/02', ' Vienna', ' Austria', ' 9.6', ' 8.6'],\n",
              " ['2020/12/28', ' Vienna', ' Austria', ' 20.4', ' 5.2'],\n",
              " ['2020/03/11', ' Vienna', ' Austria', ' 9.2', ' 1.6'],\n",
              " ['2020/09/20', ' Prague', ' Czech Republic', ' 26.6', ' 20.9'],\n",
              " ['2020/02/29', ' Prague', ' Czech Republic', ' 6.6', ' -4.3'],\n",
              " ['2020/02/17', ' Prague', ' Czech Republic', ' 10.9', ' -4.8'],\n",
              " ['2020/03/05', ' Prague', ' Czech Republic', ' 20.3', ' -4.4'],\n",
              " ['2020/02/15', ' Prague', ' Czech Republic', ' 10.0', ' -4.7'],\n",
              " ['2020/06/08', ' Warsaw', ' Poland', ' 30.5', ' -8.2'],\n",
              " ['2020/07/11', ' Warsaw', ' Poland', ' 29.7', ' 6.2'],\n",
              " ['2020/04/05', ' Warsaw', ' Poland', ' 15.1', ' -3.0'],\n",
              " ['2020/10/14', ' Warsaw', ' Poland', ' 33.8', ' -7.0'],\n",
              " ['2020/06/24', ' Warsaw', ' Poland', ' 24.3', ' 21.4'],\n",
              " ['2020/05/14', ' Budapest', ' Hungary', ' 33.1', ' 10.1'],\n",
              " ['2020/10/06', ' Budapest', ' Hungary', ' 23.8', ' 14.7'],\n",
              " ['2020/07/01', ' Budapest', ' Hungary', ' -2.2', ' -7.4'],\n",
              " ['2020/09/18', ' Budapest', ' Hungary', ' 21.8', ' -2.5'],\n",
              " ['2020/10/10', ' Budapest', ' Hungary', ' 28.7', ' 20.2'],\n",
              " ['2020/05/03', ' Athens', ' Greece', ' 30.4', ' 21.2'],\n",
              " ['2020/04/28', ' Athens', ' Greece', ' 29.9', ' 14.5'],\n",
              " ['2020/08/16', ' Athens', ' Greece', ' 22.0', ' 21.6'],\n",
              " ['2020/09/13', ' Athens', ' Greece', ' 27.1', ' -5.9'],\n",
              " ['2020/01/22', ' Athens', ' Greece', ' 25.4', ' 19.2'],\n",
              " ['2020/01/13', ' Lisbon', ' Portugal', ' 26.4', ' -4.8'],\n",
              " ['2020/12/19', ' Lisbon', ' Portugal', ' 22.8', ' 21.7'],\n",
              " ['2020/07/20', ' Lisbon', ' Portugal', ' 31.0', ' -6.4'],\n",
              " ['2020/09/28', ' Lisbon', ' Portugal', ' 9.4', ' -3.9'],\n",
              " ['2020/07/16', ' Lisbon', ' Portugal', ' 23.5', ' 9.2']]"
            ]
          },
          "metadata": {},
          "execution_count": 79
        }
      ]
    },
    {
      "cell_type": "markdown",
      "source": [
        "indexing the data:"
      ],
      "metadata": {
        "id": "bLJK_-tArrRB"
      }
    },
    {
      "cell_type": "code",
      "source": [
        "date = rdd_file.map(lambda line: line[0])\n",
        "\n",
        "date.collect()"
      ],
      "metadata": {
        "colab": {
          "base_uri": "https://localhost:8080/"
        },
        "id": "ixy-jOaBpBwS",
        "outputId": "8ba26888-0d41-4fca-d35a-315412baf0a9"
      },
      "execution_count": null,
      "outputs": [
        {
          "output_type": "execute_result",
          "data": {
            "text/plain": [
              "['2020/01/28',\n",
              " '2020/01/13',\n",
              " '2020/06/10',\n",
              " '2020/06/27',\n",
              " '2020/05/11',\n",
              " '2020/08/28',\n",
              " '2020/08/01',\n",
              " '2020/04/06',\n",
              " '2020/11/09',\n",
              " '2020/08/28',\n",
              " '2020/12/20',\n",
              " '2020/10/17',\n",
              " '2020/06/08',\n",
              " '2020/01/23',\n",
              " '2020/12/03',\n",
              " '2020/05/16',\n",
              " '2020/11/25',\n",
              " '2020/06/28',\n",
              " '2020/09/04',\n",
              " '2020/12/04',\n",
              " '2020/10/12',\n",
              " '2020/06/02',\n",
              " '2020/06/02',\n",
              " '2020/12/28',\n",
              " '2020/03/11',\n",
              " '2020/09/20',\n",
              " '2020/02/29',\n",
              " '2020/02/17',\n",
              " '2020/03/05',\n",
              " '2020/02/15',\n",
              " '2020/06/08',\n",
              " '2020/07/11',\n",
              " '2020/04/05',\n",
              " '2020/10/14',\n",
              " '2020/06/24',\n",
              " '2020/05/14',\n",
              " '2020/10/06',\n",
              " '2020/07/01',\n",
              " '2020/09/18',\n",
              " '2020/10/10',\n",
              " '2020/05/03',\n",
              " '2020/04/28',\n",
              " '2020/08/16',\n",
              " '2020/09/13',\n",
              " '2020/01/22',\n",
              " '2020/01/13',\n",
              " '2020/12/19',\n",
              " '2020/07/20',\n",
              " '2020/09/28',\n",
              " '2020/07/16']"
            ]
          },
          "metadata": {},
          "execution_count": 24
        }
      ]
    },
    {
      "cell_type": "code",
      "source": [
        "date_greate_than_June = date.filter(lambda date: ( date > \"2020/06/01\") & (date < \"2020/09/30\") )\n",
        "date_greate_than_June.collect()"
      ],
      "metadata": {
        "colab": {
          "base_uri": "https://localhost:8080/"
        },
        "id": "j_Fb5utXpefg",
        "outputId": "bcdc63c4-d81d-4f49-b21b-ee386c32b88a"
      },
      "execution_count": null,
      "outputs": [
        {
          "output_type": "execute_result",
          "data": {
            "text/plain": [
              "['2020/06/10',\n",
              " '2020/06/27',\n",
              " '2020/08/28',\n",
              " '2020/08/01',\n",
              " '2020/08/28',\n",
              " '2020/06/08',\n",
              " '2020/06/28',\n",
              " '2020/09/04',\n",
              " '2020/06/02',\n",
              " '2020/06/02',\n",
              " '2020/09/20',\n",
              " '2020/06/08',\n",
              " '2020/07/11',\n",
              " '2020/06/24',\n",
              " '2020/07/01',\n",
              " '2020/09/18',\n",
              " '2020/08/16',\n",
              " '2020/09/13',\n",
              " '2020/07/20',\n",
              " '2020/09/28',\n",
              " '2020/07/16']"
            ]
          },
          "metadata": {},
          "execution_count": 30
        }
      ]
    },
    {
      "cell_type": "markdown",
      "source": [
        "I want to see max tempretarue max, min temperature for the dates listet above"
      ],
      "metadata": {
        "id": "LewjeJY3tU_v"
      }
    },
    {
      "cell_type": "code",
      "source": [
        "def temp_min_max(array_temp):\n",
        "  return [array_temp[0], array_temp[3], array_temp[4]]\n",
        "\n",
        "data_greater = date_greate_than_June.collect()\n",
        "summer_max_min = rdd_file.filter(lambda line: line[0] in data_greater)\\\n",
        "                          .map(lambda row: temp_min_max(row))"
      ],
      "metadata": {
        "id": "a1_poMJNtC73"
      },
      "execution_count": null,
      "outputs": []
    },
    {
      "cell_type": "markdown",
      "source": [
        "remember that we have made this step\n",
        "data_greater = date_greate_than_June.collect()\n",
        "befor the filtering since we cant include an rdd operation in another rdd one"
      ],
      "metadata": {
        "id": "M4JJ0wn-3VsB"
      }
    },
    {
      "cell_type": "code",
      "source": [
        "summer_max_min.collect()"
      ],
      "metadata": {
        "colab": {
          "base_uri": "https://localhost:8080/"
        },
        "id": "WWz-ivhcurSJ",
        "outputId": "dd0f7af9-4de6-4e06-8273-9960a784aac9"
      },
      "execution_count": null,
      "outputs": [
        {
          "output_type": "execute_result",
          "data": {
            "text/plain": [
              "[['2020/06/10', ' 29.5', ' 17.2'],\n",
              " ['2020/06/27', ' 2.3', ' -0.5'],\n",
              " ['2020/08/28', ' 20.2', ' 6.2'],\n",
              " ['2020/08/01', ' 11.3', ' -4.3'],\n",
              " ['2020/08/28', ' 23.7', ' -5.6'],\n",
              " ['2020/06/08', ' 24.7', ' 16.3'],\n",
              " ['2020/06/28', ' 27.5', ' 23.0'],\n",
              " ['2020/09/04', ' 34.0', ' 17.0'],\n",
              " ['2020/06/02', ' 23.0', ' 16.7'],\n",
              " ['2020/06/02', ' 9.6', ' 8.6'],\n",
              " ['2020/09/20', ' 26.6', ' 20.9'],\n",
              " ['2020/06/08', ' 30.5', ' -8.2'],\n",
              " ['2020/07/11', ' 29.7', ' 6.2'],\n",
              " ['2020/06/24', ' 24.3', ' 21.4'],\n",
              " ['2020/07/01', ' -2.2', ' -7.4'],\n",
              " ['2020/09/18', ' 21.8', ' -2.5'],\n",
              " ['2020/08/16', ' 22.0', ' 21.6'],\n",
              " ['2020/09/13', ' 27.1', ' -5.9'],\n",
              " ['2020/07/20', ' 31.0', ' -6.4'],\n",
              " ['2020/09/28', ' 9.4', ' -3.9'],\n",
              " ['2020/07/16', ' 23.5', ' 9.2']]"
            ]
          },
          "metadata": {},
          "execution_count": 48
        }
      ]
    },
    {
      "cell_type": "markdown",
      "source": [
        "Write the scheme of an Hadoop MapReduce applicative program to address the following question.\n",
        "Considering all historical data stored in Temperatures.txt, the application must select the cities with at least\n",
        "one date with maximum temperature greater than 35°C and at least one date with minimum temperature less\n",
        "than -5°C.\n",
        "The two observations may be the same date or different dates.\n",
        "Store the results in an HDFS folder.\n",
        "The output should contain one line for each of the selected cities."
      ],
      "metadata": {
        "id": "VHRXSXmddhuC"
      }
    },
    {
      "cell_type": "code",
      "source": [
        "rdd_file.collect()"
      ],
      "metadata": {
        "colab": {
          "base_uri": "https://localhost:8080/"
        },
        "id": "C0CsDLBI25LZ",
        "outputId": "707fb43e-0fca-4e4e-eeb2-719f83206b10"
      },
      "execution_count": null,
      "outputs": [
        {
          "output_type": "execute_result",
          "data": {
            "text/plain": [
              "[['2020/01/28', ' Paris', ' France', ' 23.0', ' 21.9'],\n",
              " ['2020/01/13', ' Paris', ' France', ' 22.7', ' 9.6'],\n",
              " ['2020/06/10', ' Paris', ' France', ' 29.5', ' 17.2'],\n",
              " ['2020/06/27', ' Paris', ' France', ' 2.3', ' -0.5'],\n",
              " ['2020/05/11', ' Paris', ' France', ' 24.8', ' 17.8'],\n",
              " ['2020/08/28', ' Berlin', ' Germany', ' 20.2', ' 6.2'],\n",
              " ['2020/08/01', ' Berlin', ' Germany', ' 11.3', ' -4.3'],\n",
              " ['2020/04/06', ' Berlin', ' Germany', ' 31.0', ' 21.1'],\n",
              " ['2020/11/09', ' Berlin', ' Germany', ' 28.9', ' 13.6'],\n",
              " ['2020/08/28', ' Berlin', ' Germany', ' 23.7', ' -5.6'],\n",
              " ['2020/12/20', ' Rome', ' Italy', ' 29.3', ' 24.1'],\n",
              " ['2020/10/17', ' Rome', ' Italy', ' 27.1', ' 19.6'],\n",
              " ['2020/06/08', ' Rome', ' Italy', ' 24.7', ' 16.3'],\n",
              " ['2020/01/23', ' Rome', ' Italy', ' 25.3', ' -7.6'],\n",
              " ['2020/12/03', ' Rome', ' Italy', ' 25.1', ' 22.2'],\n",
              " ['2020/05/16', ' Madrid', ' Spain', ' 26.0', ' 15.4'],\n",
              " ['2020/11/25', ' Madrid', ' Spain', ' 24.1', ' 17.3'],\n",
              " ['2020/06/28', ' Madrid', ' Spain', ' 27.5', ' 23.0'],\n",
              " ['2020/09/04', ' Madrid', ' Spain', ' 34.0', ' 17.0'],\n",
              " ['2020/12/04', ' Madrid', ' Spain', ' 21.1', ' 19.7'],\n",
              " ['2020/10/12', ' Vienna', ' Austria', ' 21.6', ' 3.8'],\n",
              " ['2020/06/02', ' Vienna', ' Austria', ' 23.0', ' 16.7'],\n",
              " ['2020/06/02', ' Vienna', ' Austria', ' 9.6', ' 8.6'],\n",
              " ['2020/12/28', ' Vienna', ' Austria', ' 20.4', ' 5.2'],\n",
              " ['2020/03/11', ' Vienna', ' Austria', ' 9.2', ' 1.6'],\n",
              " ['2020/09/20', ' Prague', ' Czech Republic', ' 26.6', ' 20.9'],\n",
              " ['2020/02/29', ' Prague', ' Czech Republic', ' 6.6', ' -4.3'],\n",
              " ['2020/02/17', ' Prague', ' Czech Republic', ' 10.9', ' -4.8'],\n",
              " ['2020/03/05', ' Prague', ' Czech Republic', ' 20.3', ' -4.4'],\n",
              " ['2020/02/15', ' Prague', ' Czech Republic', ' 10.0', ' -4.7'],\n",
              " ['2020/06/08', ' Warsaw', ' Poland', ' 30.5', ' -8.2'],\n",
              " ['2020/07/11', ' Warsaw', ' Poland', ' 29.7', ' 6.2'],\n",
              " ['2020/04/05', ' Warsaw', ' Poland', ' 15.1', ' -3.0'],\n",
              " ['2020/10/14', ' Warsaw', ' Poland', ' 33.8', ' -7.0'],\n",
              " ['2020/06/24', ' Warsaw', ' Poland', ' 24.3', ' 21.4'],\n",
              " ['2020/05/14', ' Budapest', ' Hungary', ' 33.1', ' 10.1'],\n",
              " ['2020/10/06', ' Budapest', ' Hungary', ' 23.8', ' 14.7'],\n",
              " ['2020/07/01', ' Budapest', ' Hungary', ' -2.2', ' -7.4'],\n",
              " ['2020/09/18', ' Budapest', ' Hungary', ' 21.8', ' -2.5'],\n",
              " ['2020/10/10', ' Budapest', ' Hungary', ' 28.7', ' 20.2'],\n",
              " ['2020/05/03', ' Athens', ' Greece', ' 30.4', ' 21.2'],\n",
              " ['2020/04/28', ' Athens', ' Greece', ' 29.9', ' 14.5'],\n",
              " ['2020/08/16', ' Athens', ' Greece', ' 22.0', ' 21.6'],\n",
              " ['2020/09/13', ' Athens', ' Greece', ' 27.1', ' -5.9'],\n",
              " ['2020/01/22', ' Athens', ' Greece', ' 25.4', ' 19.2'],\n",
              " ['2020/01/13', ' Lisbon', ' Portugal', ' 26.4', ' -4.8'],\n",
              " ['2020/12/19', ' Lisbon', ' Portugal', ' 22.8', ' 21.7'],\n",
              " ['2020/07/20', ' Lisbon', ' Portugal', ' 31.0', ' -6.4'],\n",
              " ['2020/09/28', ' Lisbon', ' Portugal', ' 9.4', ' -3.9'],\n",
              " ['2020/07/16', ' Lisbon', ' Portugal', ' 23.5', ' 9.2']]"
            ]
          },
          "metadata": {},
          "execution_count": 80
        }
      ]
    },
    {
      "cell_type": "code",
      "source": [
        "## the map should take each line, then it should return the (city, char), so we can use the map funtion to generate the data for all cities that have passsed one of\n",
        "## the two conditions -- > 35 and -- < 5\n",
        "\n",
        "## then in the reduce we only return these with both conditions satisfied.\n",
        "\n",
        "def map(line):\n",
        "\n",
        "  field = line.split(\",\")\n",
        "  city = line[1]\n",
        "  max_temp = line[3]\n",
        "  min_temp = line[4]\n",
        "\n",
        "  if (int(max_temp) > 35):\n",
        "    yield(city, \"g\")\n",
        "\n",
        "  elif (int(min_temp) < -5 ):\n",
        "    yield (city, \"l\")\n",
        "\n",
        "\n",
        "#reduce function where we need to check wheter the values of city contain both \"l\" and \"g\"\n",
        "\n",
        "def reduce(key, values):\n",
        "\n",
        "    greater = False\n",
        "    less =  False\n",
        "\n",
        "    for val in values:\n",
        "      if val == \"g\":\n",
        "        greater = True\n",
        "\n",
        "      elif val == \"l\":\n",
        "        less = True\n",
        "\n",
        "    if (greater & less): yield key\n",
        "\n",
        "\n",
        "\n",
        "\n"
      ],
      "metadata": {
        "id": "W9zdVKpIeIh8"
      },
      "execution_count": null,
      "outputs": []
    },
    {
      "cell_type": "code",
      "source": [
        "\n",
        "#finding the max average\n",
        "only_max = summer_max_min.map(lambda row: row[1])\n",
        "total_max = only_max.reduce(lambda x,y: float(x)+float(y))\n",
        "average_temp_max = round(total_max / only_max.count(), 2)\n",
        "\n",
        "#finding the min average\n",
        "only_min = summer_max_min.map(lambda row: row[2])\n",
        "total_min = only_min.reduce(lambda x,y: float(x)+float(y))\n",
        "average_temp_min = round(total_min / only_min.count(), 2)\n",
        "\n",
        "#printing the averages\n",
        "print(f\"Average temperature for max {average_temp_max}, average temperature for min {average_temp_min}\")"
      ],
      "metadata": {
        "id": "fqYLfhudySPD",
        "colab": {
          "base_uri": "https://localhost:8080/"
        },
        "outputId": "1e5dd940-9204-4976-d1cb-61e0d94d544e"
      },
      "execution_count": null,
      "outputs": [
        {
          "output_type": "stream",
          "name": "stdout",
          "text": [
            "Average temperature for max 21.4, average temperature for min 6.65\n"
          ]
        }
      ]
    },
    {
      "cell_type": "markdown",
      "source": [
        "The application must first select the historical temperature values observed during the summer of 2019.\n",
        "Based on the resulting dataset, the application must store in HDFS the average value of max_temperature\n",
        "for each city. The format of the output must be “(city-country, average max_temperature of city)” where citycountry is the concatenation of the city and its country."
      ],
      "metadata": {
        "id": "5SekwdZ1ADyc"
      }
    },
    {
      "cell_type": "code",
      "source": [
        "\n",
        "summer_data = DF_TEMP.filter( (f.col(\"date\") > \"2020/06/01\") & (f.col(\"date\") < \"2020/09/30\"))\n",
        "\n",
        "result = summer_data.withColumn(\"city_country\", f.concat_ws(\"-\", f.col(\"city\"), f.col(\"country\"))) \\\n",
        "                    .groupBy(\"city_country\") \\\n",
        "                    .agg(f.avg(\"max_temperature\").alias(\"avg_max_temperature\"))"
      ],
      "metadata": {
        "id": "klZHPHZgADUD"
      },
      "execution_count": null,
      "outputs": []
    },
    {
      "cell_type": "code",
      "source": [
        "result.show()"
      ],
      "metadata": {
        "colab": {
          "base_uri": "https://localhost:8080/"
        },
        "id": "a1KBV0CvEqel",
        "outputId": "20ebcd80-fc37-4097-99af-a2898dfd2d65"
      },
      "execution_count": null,
      "outputs": [
        {
          "output_type": "stream",
          "name": "stdout",
          "text": [
            "+--------------------+-------------------+\n",
            "|        city_country|avg_max_temperature|\n",
            "+--------------------+-------------------+\n",
            "|        Madrid-Spain|              30.75|\n",
            "|      Berlin-Germany| 18.400000000000002|\n",
            "|        Paris-France|               15.9|\n",
            "|Prague-Czech Repu...|               26.6|\n",
            "|          Rome-Italy|               24.7|\n",
            "|      Vienna-Austria|               16.3|\n",
            "|       Athens-Greece|              24.55|\n",
            "|       Warsaw-Poland| 28.166666666666668|\n",
            "|    Budapest-Hungary|                9.8|\n",
            "|     Lisbon-Portugal|               21.3|\n",
            "+--------------------+-------------------+\n",
            "\n"
          ]
        }
      ]
    },
    {
      "cell_type": "markdown",
      "source": [
        "find cities where the difference between average max value in the summer and winter is more than 20 C"
      ],
      "metadata": {
        "id": "GYJLfp-NN6QC"
      }
    },
    {
      "cell_type": "code",
      "source": [
        "temp_summer = DF_TEMP.filter( (f.col(\"date\") > \"2020/06/01\") & (f.col(\"date\") < \"2020/08/30\"))\n",
        "\n",
        "summer_dates = temp_summer.select(\"date\").distinct()\n",
        "\n",
        "temp_winter = DF_TEMP.join(summer_dates, [\"date\"], \"left_anti\")\n",
        "\n",
        "# prpare summer data\n",
        "summer_data = temp_summer.groupBy(\"city\").agg(f.round(f.avg(f.col(\"max_temperature\")),2).alias(\"summer_max\"))\n",
        "\n",
        "winter_data = temp_winter.groupBy(\"city\").agg(f.round(f.avg(f.col(\"max_temperature\")),2).alias(\"winter_max\"))\n",
        "\n",
        "grouped = summer_data.join(winter_data, [\"city\"])\n",
        "\n",
        "cities = grouped.select(\"city\").filter(f.abs(f.col(\"summer_max\") - f.col(\"winter_max\")) > 20)\n",
        "\n",
        "cities.show()"
      ],
      "metadata": {
        "colab": {
          "base_uri": "https://localhost:8080/"
        },
        "id": "mFuA9KBtJHeq",
        "outputId": "e8a77062-592c-4a18-e77c-f0f7a17bd0c6"
      },
      "execution_count": null,
      "outputs": [
        {
          "output_type": "stream",
          "name": "stdout",
          "text": [
            "+--------+\n",
            "|    city|\n",
            "+--------+\n",
            "|Budapest|\n",
            "+--------+\n",
            "\n"
          ]
        }
      ]
    }
  ]
}